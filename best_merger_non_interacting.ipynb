{
  "nbformat": 4,
  "nbformat_minor": 0,
  "metadata": {
    "accelerator": "GPU",
    "colab": {
      "name": "best_merger_non_interacting.ipynb",
      "provenance": [],
      "collapsed_sections": []
    },
    "kernelspec": {
      "display_name": "Python 3",
      "name": "python3"
    },
    "language_info": {
      "name": "python"
    },
    "widgets": {
      "application/vnd.jupyter.widget-state+json": {
        "7015ebea8ad8493cbdfd096dcfd2e7b7": {
          "model_module": "@jupyter-widgets/controls",
          "model_name": "HBoxModel",
          "state": {
            "_view_name": "HBoxView",
            "_dom_classes": [],
            "_model_name": "HBoxModel",
            "_view_module": "@jupyter-widgets/controls",
            "_model_module_version": "1.5.0",
            "_view_count": null,
            "_view_module_version": "1.5.0",
            "box_style": "",
            "layout": "IPY_MODEL_3c66464d32704f6f91b9d669dcfd7f43",
            "_model_module": "@jupyter-widgets/controls",
            "children": [
              "IPY_MODEL_9870728941074b5684c94f755d452121",
              "IPY_MODEL_884c1df4002546ffae3a349579c0a2f6"
            ]
          }
        },
        "3c66464d32704f6f91b9d669dcfd7f43": {
          "model_module": "@jupyter-widgets/base",
          "model_name": "LayoutModel",
          "state": {
            "_view_name": "LayoutView",
            "grid_template_rows": null,
            "right": null,
            "justify_content": null,
            "_view_module": "@jupyter-widgets/base",
            "overflow": null,
            "_model_module_version": "1.2.0",
            "_view_count": null,
            "flex_flow": null,
            "width": null,
            "min_width": null,
            "border": null,
            "align_items": null,
            "bottom": null,
            "_model_module": "@jupyter-widgets/base",
            "top": null,
            "grid_column": null,
            "overflow_y": null,
            "overflow_x": null,
            "grid_auto_flow": null,
            "grid_area": null,
            "grid_template_columns": null,
            "flex": null,
            "_model_name": "LayoutModel",
            "justify_items": null,
            "grid_row": null,
            "max_height": null,
            "align_content": null,
            "visibility": null,
            "align_self": null,
            "height": null,
            "min_height": null,
            "padding": null,
            "grid_auto_rows": null,
            "grid_gap": null,
            "max_width": null,
            "order": null,
            "_view_module_version": "1.2.0",
            "grid_template_areas": null,
            "object_position": null,
            "object_fit": null,
            "grid_auto_columns": null,
            "margin": null,
            "display": null,
            "left": null
          }
        },
        "9870728941074b5684c94f755d452121": {
          "model_module": "@jupyter-widgets/controls",
          "model_name": "FloatProgressModel",
          "state": {
            "_view_name": "ProgressView",
            "style": "IPY_MODEL_13cfe3de524940f1806e7a1eae242b50",
            "_dom_classes": [],
            "description": "100%",
            "_model_name": "FloatProgressModel",
            "bar_style": "success",
            "max": 91675053,
            "_view_module": "@jupyter-widgets/controls",
            "_model_module_version": "1.5.0",
            "value": 91675053,
            "_view_count": null,
            "_view_module_version": "1.5.0",
            "orientation": "horizontal",
            "min": 0,
            "description_tooltip": null,
            "_model_module": "@jupyter-widgets/controls",
            "layout": "IPY_MODEL_49ccf2e2cfff46a6899f1e1aeb96b922"
          }
        },
        "884c1df4002546ffae3a349579c0a2f6": {
          "model_module": "@jupyter-widgets/controls",
          "model_name": "HTMLModel",
          "state": {
            "_view_name": "HTMLView",
            "style": "IPY_MODEL_1fafc7b414234db6a23edd9c6488a7db",
            "_dom_classes": [],
            "description": "",
            "_model_name": "HTMLModel",
            "placeholder": "​",
            "_view_module": "@jupyter-widgets/controls",
            "_model_module_version": "1.5.0",
            "value": " 87.4M/87.4M [04:17&lt;00:00, 355kB/s]",
            "_view_count": null,
            "_view_module_version": "1.5.0",
            "description_tooltip": null,
            "_model_module": "@jupyter-widgets/controls",
            "layout": "IPY_MODEL_2a4e8c497c544337b0cbdb27ec9b9a5f"
          }
        },
        "13cfe3de524940f1806e7a1eae242b50": {
          "model_module": "@jupyter-widgets/controls",
          "model_name": "ProgressStyleModel",
          "state": {
            "_view_name": "StyleView",
            "_model_name": "ProgressStyleModel",
            "description_width": "initial",
            "_view_module": "@jupyter-widgets/base",
            "_model_module_version": "1.5.0",
            "_view_count": null,
            "_view_module_version": "1.2.0",
            "bar_color": null,
            "_model_module": "@jupyter-widgets/controls"
          }
        },
        "49ccf2e2cfff46a6899f1e1aeb96b922": {
          "model_module": "@jupyter-widgets/base",
          "model_name": "LayoutModel",
          "state": {
            "_view_name": "LayoutView",
            "grid_template_rows": null,
            "right": null,
            "justify_content": null,
            "_view_module": "@jupyter-widgets/base",
            "overflow": null,
            "_model_module_version": "1.2.0",
            "_view_count": null,
            "flex_flow": null,
            "width": null,
            "min_width": null,
            "border": null,
            "align_items": null,
            "bottom": null,
            "_model_module": "@jupyter-widgets/base",
            "top": null,
            "grid_column": null,
            "overflow_y": null,
            "overflow_x": null,
            "grid_auto_flow": null,
            "grid_area": null,
            "grid_template_columns": null,
            "flex": null,
            "_model_name": "LayoutModel",
            "justify_items": null,
            "grid_row": null,
            "max_height": null,
            "align_content": null,
            "visibility": null,
            "align_self": null,
            "height": null,
            "min_height": null,
            "padding": null,
            "grid_auto_rows": null,
            "grid_gap": null,
            "max_width": null,
            "order": null,
            "_view_module_version": "1.2.0",
            "grid_template_areas": null,
            "object_position": null,
            "object_fit": null,
            "grid_auto_columns": null,
            "margin": null,
            "display": null,
            "left": null
          }
        },
        "1fafc7b414234db6a23edd9c6488a7db": {
          "model_module": "@jupyter-widgets/controls",
          "model_name": "DescriptionStyleModel",
          "state": {
            "_view_name": "StyleView",
            "_model_name": "DescriptionStyleModel",
            "description_width": "",
            "_view_module": "@jupyter-widgets/base",
            "_model_module_version": "1.5.0",
            "_view_count": null,
            "_view_module_version": "1.2.0",
            "_model_module": "@jupyter-widgets/controls"
          }
        },
        "2a4e8c497c544337b0cbdb27ec9b9a5f": {
          "model_module": "@jupyter-widgets/base",
          "model_name": "LayoutModel",
          "state": {
            "_view_name": "LayoutView",
            "grid_template_rows": null,
            "right": null,
            "justify_content": null,
            "_view_module": "@jupyter-widgets/base",
            "overflow": null,
            "_model_module_version": "1.2.0",
            "_view_count": null,
            "flex_flow": null,
            "width": null,
            "min_width": null,
            "border": null,
            "align_items": null,
            "bottom": null,
            "_model_module": "@jupyter-widgets/base",
            "top": null,
            "grid_column": null,
            "overflow_y": null,
            "overflow_x": null,
            "grid_auto_flow": null,
            "grid_area": null,
            "grid_template_columns": null,
            "flex": null,
            "_model_name": "LayoutModel",
            "justify_items": null,
            "grid_row": null,
            "max_height": null,
            "align_content": null,
            "visibility": null,
            "align_self": null,
            "height": null,
            "min_height": null,
            "padding": null,
            "grid_auto_rows": null,
            "grid_gap": null,
            "max_width": null,
            "order": null,
            "_view_module_version": "1.2.0",
            "grid_template_areas": null,
            "object_position": null,
            "object_fit": null,
            "grid_auto_columns": null,
            "margin": null,
            "display": null,
            "left": null
          }
        }
      }
    }
  },
  "cells": [
    {
      "cell_type": "code",
      "metadata": {
        "colab": {
          "base_uri": "https://localhost:8080/"
        },
        "id": "189pa47ASkgF",
        "outputId": "79819b86-8cfa-41ac-c193-80700b56ea3c"
      },
      "source": [
        "from google.colab import drive\n",
        "drive.mount(\"/content/drive\")"
      ],
      "execution_count": 6,
      "outputs": [
        {
          "output_type": "stream",
          "text": [
            "Mounted at /content/drive\n"
          ],
          "name": "stdout"
        }
      ]
    },
    {
      "cell_type": "code",
      "metadata": {
        "id": "p7eSyjXBSl5G"
      },
      "source": [
        "!unzip drive/MyDrive/dataset.zip"
      ],
      "execution_count": null,
      "outputs": []
    },
    {
      "cell_type": "code",
      "metadata": {
        "colab": {
          "base_uri": "https://localhost:8080/"
        },
        "id": "AiZfxdqdWXxS",
        "outputId": "09befdd5-bd98-4f62-fe7e-9a4d49600299"
      },
      "source": [
        "!pip install pretrainedmodels"
      ],
      "execution_count": 1,
      "outputs": [
        {
          "output_type": "stream",
          "text": [
            "Collecting pretrainedmodels\n",
            "\u001b[?25l  Downloading https://files.pythonhosted.org/packages/84/0e/be6a0e58447ac16c938799d49bfb5fb7a80ac35e137547fc6cee2c08c4cf/pretrainedmodels-0.7.4.tar.gz (58kB)\n",
            "\r\u001b[K     |█████▋                          | 10kB 20.9MB/s eta 0:00:01\r\u001b[K     |███████████▏                    | 20kB 24.8MB/s eta 0:00:01\r\u001b[K     |████████████████▊               | 30kB 29.1MB/s eta 0:00:01\r\u001b[K     |██████████████████████▎         | 40kB 23.2MB/s eta 0:00:01\r\u001b[K     |███████████████████████████▉    | 51kB 24.4MB/s eta 0:00:01\r\u001b[K     |████████████████████████████████| 61kB 7.7MB/s \n",
            "\u001b[?25hRequirement already satisfied: torch in /usr/local/lib/python3.7/dist-packages (from pretrainedmodels) (1.9.0+cu102)\n",
            "Requirement already satisfied: torchvision in /usr/local/lib/python3.7/dist-packages (from pretrainedmodels) (0.10.0+cu102)\n",
            "Collecting munch\n",
            "  Downloading https://files.pythonhosted.org/packages/cc/ab/85d8da5c9a45e072301beb37ad7f833cd344e04c817d97e0cc75681d248f/munch-2.5.0-py2.py3-none-any.whl\n",
            "Requirement already satisfied: tqdm in /usr/local/lib/python3.7/dist-packages (from pretrainedmodels) (4.41.1)\n",
            "Requirement already satisfied: typing-extensions in /usr/local/lib/python3.7/dist-packages (from torch->pretrainedmodels) (3.7.4.3)\n",
            "Requirement already satisfied: pillow>=5.3.0 in /usr/local/lib/python3.7/dist-packages (from torchvision->pretrainedmodels) (7.1.2)\n",
            "Requirement already satisfied: numpy in /usr/local/lib/python3.7/dist-packages (from torchvision->pretrainedmodels) (1.19.5)\n",
            "Requirement already satisfied: six in /usr/local/lib/python3.7/dist-packages (from munch->pretrainedmodels) (1.15.0)\n",
            "Building wheels for collected packages: pretrainedmodels\n",
            "  Building wheel for pretrainedmodels (setup.py) ... \u001b[?25l\u001b[?25hdone\n",
            "  Created wheel for pretrainedmodels: filename=pretrainedmodels-0.7.4-cp37-none-any.whl size=60966 sha256=fc54e953a11d57c50ca1883f7287e90be3d90b9f856b6e1c16ff8ebc9c0385e2\n",
            "  Stored in directory: /root/.cache/pip/wheels/69/df/63/62583c096289713f22db605aa2334de5b591d59861a02c2ecd\n",
            "Successfully built pretrainedmodels\n",
            "Installing collected packages: munch, pretrainedmodels\n",
            "Successfully installed munch-2.5.0 pretrainedmodels-0.7.4\n"
          ],
          "name": "stdout"
        }
      ]
    },
    {
      "cell_type": "code",
      "metadata": {
        "id": "J2llYuL95-jd"
      },
      "source": [
        "import os\n",
        "import time\n",
        "import copy\n",
        "import numpy as np\n",
        "import matplotlib.pyplot as plt\n",
        "\n",
        "import torchvision\n",
        "import torch\n",
        "import torch.nn as nn\n",
        "import torch.optim as optim\n",
        "from torch.optim import lr_scheduler\n",
        "\n",
        "from torchvision import datasets, transforms, models\n",
        "\n",
        "import pretrainedmodels.utils as utils"
      ],
      "execution_count": 2,
      "outputs": []
    },
    {
      "cell_type": "code",
      "metadata": {
        "id": "dYrSbzxy_cWD"
      },
      "source": [
        "device = torch.device(\"cuda:0\" if torch.cuda.is_available() else \"cpu\")"
      ],
      "execution_count": 3,
      "outputs": []
    },
    {
      "cell_type": "code",
      "metadata": {
        "colab": {
          "base_uri": "https://localhost:8080/"
        },
        "id": "5X99MynU7uHU",
        "outputId": "120bba80-ea85-4ff5-bc43-2e3036b5d82f"
      },
      "source": [
        "device"
      ],
      "execution_count": 4,
      "outputs": [
        {
          "output_type": "execute_result",
          "data": {
            "text/plain": [
              "device(type='cuda', index=0)"
            ]
          },
          "metadata": {
            "tags": []
          },
          "execution_count": 4
        }
      ]
    },
    {
      "cell_type": "code",
      "metadata": {
        "colab": {
          "base_uri": "https://localhost:8080/"
        },
        "id": "umSn54dbsOCw",
        "outputId": "435348df-4d7d-43b7-fcd7-56ccc427cf25"
      },
      "source": [
        "image = plt.imread(\"/content/dataset_zurich/train/merger/587722952231026743.jpeg\")\n",
        "image.shape"
      ],
      "execution_count": 8,
      "outputs": [
        {
          "output_type": "execute_result",
          "data": {
            "text/plain": [
              "(631, 631, 3)"
            ]
          },
          "metadata": {
            "tags": []
          },
          "execution_count": 8
        }
      ]
    },
    {
      "cell_type": "code",
      "metadata": {
        "id": "Z35vRtg4uWdD"
      },
      "source": [
        "import pretrainedmodels"
      ],
      "execution_count": 9,
      "outputs": []
    },
    {
      "cell_type": "code",
      "metadata": {
        "colab": {
          "base_uri": "https://localhost:8080/"
        },
        "id": "XlepD1I_uXQz",
        "outputId": "ac1b988b-dc8c-4e72-9af5-fea821750c01"
      },
      "source": [
        "pretrainedmodels.model_names"
      ],
      "execution_count": 10,
      "outputs": [
        {
          "output_type": "execute_result",
          "data": {
            "text/plain": [
              "['fbresnet152',\n",
              " 'bninception',\n",
              " 'resnext101_32x4d',\n",
              " 'resnext101_64x4d',\n",
              " 'inceptionv4',\n",
              " 'inceptionresnetv2',\n",
              " 'alexnet',\n",
              " 'densenet121',\n",
              " 'densenet169',\n",
              " 'densenet201',\n",
              " 'densenet161',\n",
              " 'resnet18',\n",
              " 'resnet34',\n",
              " 'resnet50',\n",
              " 'resnet101',\n",
              " 'resnet152',\n",
              " 'inceptionv3',\n",
              " 'squeezenet1_0',\n",
              " 'squeezenet1_1',\n",
              " 'vgg11',\n",
              " 'vgg11_bn',\n",
              " 'vgg13',\n",
              " 'vgg13_bn',\n",
              " 'vgg16',\n",
              " 'vgg16_bn',\n",
              " 'vgg19_bn',\n",
              " 'vgg19',\n",
              " 'nasnetamobile',\n",
              " 'nasnetalarge',\n",
              " 'dpn68',\n",
              " 'dpn68b',\n",
              " 'dpn92',\n",
              " 'dpn98',\n",
              " 'dpn131',\n",
              " 'dpn107',\n",
              " 'xception',\n",
              " 'senet154',\n",
              " 'se_resnet50',\n",
              " 'se_resnet101',\n",
              " 'se_resnet152',\n",
              " 'se_resnext50_32x4d',\n",
              " 'se_resnext101_32x4d',\n",
              " 'cafferesnet101',\n",
              " 'pnasnet5large',\n",
              " 'polynet']"
            ]
          },
          "metadata": {
            "tags": []
          },
          "execution_count": 10
        }
      ]
    },
    {
      "cell_type": "code",
      "metadata": {
        "id": "cbluAE3iuSkh",
        "colab": {
          "base_uri": "https://localhost:8080/",
          "height": 104,
          "referenced_widgets": [
            "7015ebea8ad8493cbdfd096dcfd2e7b7",
            "3c66464d32704f6f91b9d669dcfd7f43",
            "9870728941074b5684c94f755d452121",
            "884c1df4002546ffae3a349579c0a2f6",
            "13cfe3de524940f1806e7a1eae242b50",
            "49ccf2e2cfff46a6899f1e1aeb96b922",
            "1fafc7b414234db6a23edd9c6488a7db",
            "2a4e8c497c544337b0cbdb27ec9b9a5f"
          ]
        },
        "outputId": "ba65ac1b-43ab-4547-be0f-31205616f2ed"
      },
      "source": [
        "# Import xception pre-trained model\n",
        "model_name = 'xception' # could be fbresnet152 or inceptionresnetv2\n",
        "model_conv = pretrainedmodels.__dict__[model_name](num_classes=1000, pretrained='imagenet')\n",
        "model_conv.eval()\n",
        "tf_img = utils.TransformImage(model_conv)"
      ],
      "execution_count": 11,
      "outputs": [
        {
          "output_type": "stream",
          "text": [
            "Downloading: \"http://data.lip6.fr/cadene/pretrainedmodels/xception-43020ad28.pth\" to /root/.cache/torch/hub/checkpoints/xception-43020ad28.pth\n"
          ],
          "name": "stderr"
        },
        {
          "output_type": "display_data",
          "data": {
            "application/vnd.jupyter.widget-view+json": {
              "model_id": "7015ebea8ad8493cbdfd096dcfd2e7b7",
              "version_minor": 0,
              "version_major": 2
            },
            "text/plain": [
              "HBox(children=(FloatProgress(value=0.0, max=91675053.0), HTML(value='')))"
            ]
          },
          "metadata": {
            "tags": []
          }
        },
        {
          "output_type": "stream",
          "text": [
            "\n"
          ],
          "name": "stdout"
        }
      ]
    },
    {
      "cell_type": "code",
      "metadata": {
        "id": "HD3LxLJqW337"
      },
      "source": [
        "data_transforms = tf_img"
      ],
      "execution_count": 12,
      "outputs": []
    },
    {
      "cell_type": "code",
      "metadata": {
        "id": "ZGdWJYPKkGLz"
      },
      "source": [
        "data_dir = \"/content/dataset_zurich\"\n",
        "types = [\"train\", \"val\", \"test\"]\n",
        "transform_types = [\"train\", \"val\"]  # Do not transform the test set (since it is not learned)\n",
        "\n",
        "batch_size = 8 # Smaller batch sizes are better for generalization to test set\n",
        "shuffle = True\n",
        "num_workers = 1\n",
        "\n",
        "image_datasets = {x: datasets.ImageFolder(os.path.join(data_dir, x), data_transforms) for x in transform_types}\n",
        "image_datasets[\"test\"] = datasets.ImageFolder(os.path.join(data_dir, \"test\"), data_transforms)  # Do not transform test set, only load it. \n",
        "\n",
        "dataloaders = {x: torch.utils.data.DataLoader(\n",
        "                image_datasets[x], batch_size=batch_size, shuffle=shuffle, num_workers=num_workers) for x in types\n",
        "              }\n",
        "\n",
        "dataset_sizes = {x: len(image_datasets[x]) for x in types}\n",
        "class_names = image_datasets['train'].classes"
      ],
      "execution_count": 13,
      "outputs": []
    },
    {
      "cell_type": "code",
      "metadata": {
        "colab": {
          "base_uri": "https://localhost:8080/"
        },
        "id": "-VkcRnnKo3Ik",
        "outputId": "57bdea9c-eccb-4d6f-9415-e09db064f6b9"
      },
      "source": [
        "class_names"
      ],
      "execution_count": 14,
      "outputs": [
        {
          "output_type": "execute_result",
          "data": {
            "text/plain": [
              "['merger', 'noninteracting']"
            ]
          },
          "metadata": {
            "tags": []
          },
          "execution_count": 14
        }
      ]
    },
    {
      "cell_type": "code",
      "metadata": {
        "colab": {
          "base_uri": "https://localhost:8080/"
        },
        "id": "2Gf3dCfwQABN",
        "outputId": "80014f71-238f-48ae-8fc5-8df8d8f01973"
      },
      "source": [
        "dataset_sizes"
      ],
      "execution_count": 15,
      "outputs": [
        {
          "output_type": "execute_result",
          "data": {
            "text/plain": [
              "{'test': 3998, 'train': 8003, 'val': 3999}"
            ]
          },
          "metadata": {
            "tags": []
          },
          "execution_count": 15
        }
      ]
    },
    {
      "cell_type": "code",
      "metadata": {
        "colab": {
          "base_uri": "https://localhost:8080/",
          "height": 106
        },
        "id": "XEl3eVSm7eRc",
        "outputId": "d7d8ff30-cbea-4f10-db6a-03329c48eb00"
      },
      "source": [
        "def imshow(inp, title=None):\n",
        "    \"\"\"Imshow for Tensor.\"\"\"\n",
        "    inp = inp.numpy().transpose((1, 2, 0))\n",
        "    mean = np.array([0.485, 0.456, 0.406])\n",
        "    std = np.array([0.229, 0.224, 0.225])\n",
        "    inp = std * inp + mean\n",
        "    inp = np.clip(inp, 0, 1)\n",
        "    plt.imshow(inp)\n",
        "    if title is not None:\n",
        "        plt.title(title)\n",
        "    plt.pause(0.001)  # pause a bit so that plots are updated\n",
        "\n",
        "\n",
        "# Get a batch of training data\n",
        "inputs, classes = next(iter(dataloaders['train']))\n",
        "\n",
        "# Make a grid from batch\n",
        "out = torchvision.utils.make_grid(inputs)\n",
        "\n",
        "imshow(out, title=[class_names[x] for x in classes])"
      ],
      "execution_count": 16,
      "outputs": [
        {
          "output_type": "display_data",
          "data": {
            "image/png": "[encoded data removed]",
            "text/plain": [
              "<Figure size 432x288 with 1 Axes>"
            ]
          },
          "metadata": {
            "tags": [],
            "needs_background": "light"
          }
        }
      ]
    },
    {
      "cell_type": "code",
      "metadata": {
        "id": "NfIH9phs7eKE"
      },
      "source": [
        "def train_model(model, criterion, optimizer, scheduler=None, num_epochs=25):\n",
        "    since = time.time()\n",
        "\n",
        "    best_model_wts = copy.deepcopy(model.state_dict())\n",
        "    best_acc = 0.0\n",
        "\n",
        "    for epoch in range(num_epochs):\n",
        "        print('Epoch {}/{}'.format(epoch, num_epochs - 1))\n",
        "        print('-' * 10)\n",
        "\n",
        "        # Each epoch has a training and validation phase\n",
        "        for phase in ['train', 'val']:\n",
        "            if phase == 'train':\n",
        "                model.train()  # Set model to training mode\n",
        "            else:\n",
        "                model.eval()   # Set model to evaluate mode\n",
        "\n",
        "            running_loss = 0.0\n",
        "            running_corrects = 0\n",
        "\n",
        "            # Iterate over data.\n",
        "            for inputs, labels in dataloaders[phase]:\n",
        "                inputs = inputs.to(device)\n",
        "                labels = labels.to(device)\n",
        "\n",
        "                # zero the parameter gradients\n",
        "                optimizer.zero_grad()\n",
        "\n",
        "                # forward\n",
        "                # track history if only in train\n",
        "                with torch.set_grad_enabled(phase == 'train'):\n",
        "                    outputs = model(inputs)\n",
        "                    _, preds = torch.max(outputs, 1)\n",
        "                    loss = criterion(outputs, labels)\n",
        "\n",
        "                    # backward + optimize only if in training phase\n",
        "                    if phase == 'train':\n",
        "                        loss.backward()\n",
        "                        optimizer.step()\n",
        "\n",
        "                # statistics\n",
        "                running_loss += loss.item() * inputs.size(0)\n",
        "                running_corrects += torch.sum(preds == labels.data)\n",
        "            # if phase == 'train':\n",
        "            #     scheduler.step()\n",
        "\n",
        "            epoch_loss = running_loss / dataset_sizes[phase]\n",
        "            epoch_acc = running_corrects.double() / dataset_sizes[phase]\n",
        "\n",
        "            print('{} Loss: {:.4f} Acc: {:.4f}'.format(\n",
        "                phase, epoch_loss, epoch_acc))\n",
        "\n",
        "            # deep copy the model\n",
        "            if phase == 'val' and epoch_acc > best_acc:\n",
        "                best_acc = epoch_acc\n",
        "                best_model_wts = copy.deepcopy(model.state_dict())\n",
        "\n",
        "        print()\n",
        "\n",
        "    time_elapsed = time.time() - since\n",
        "    print('Training complete in {:.0f}m {:.0f}s'.format(\n",
        "        time_elapsed // 60, time_elapsed % 60))\n",
        "    print('Best val Acc: {:4f}'.format(best_acc))\n",
        "\n",
        "    # load best model weights\n",
        "    model.load_state_dict(best_model_wts)\n",
        "    return model"
      ],
      "execution_count": 17,
      "outputs": []
    },
    {
      "cell_type": "code",
      "metadata": {
        "id": "BYxjgiZY7eHY"
      },
      "source": [
        "def visualize_model(model, num_images=6):\n",
        "    was_training = model.training\n",
        "    model.eval()\n",
        "    images_so_far = 0\n",
        "    fig = plt.figure()\n",
        "\n",
        "    with torch.no_grad():\n",
        "        for i, (inputs, labels) in enumerate(dataloaders['val']):\n",
        "            inputs = inputs.to(device)\n",
        "            labels = labels.to(device)\n",
        "\n",
        "            outputs = model(inputs)\n",
        "            _, preds = torch.max(outputs, 1)\n",
        "\n",
        "            for j in range(inputs.size()[0]):\n",
        "                images_so_far += 1\n",
        "                ax = plt.subplot(num_images//2, 2, images_so_far)\n",
        "                ax.axis('off')\n",
        "                ax.set_title('predicted: {}'.format(class_names[preds[j]]))\n",
        "                imshow(inputs.cpu().data[j])\n",
        "\n",
        "                if images_so_far == num_images:\n",
        "                    model.train(mode=was_training)\n",
        "                    return\n",
        "        model.train(mode=was_training)"
      ],
      "execution_count": 18,
      "outputs": []
    },
    {
      "cell_type": "code",
      "metadata": {
        "id": "5XHaucHYv14b"
      },
      "source": [
        "# Hyperparameters from the paper (A1. Main Experiment)\n",
        "n_epochs = 40\n",
        "lr = 0.001\n",
        "momentum = None"
      ],
      "execution_count": 19,
      "outputs": []
    },
    {
      "cell_type": "code",
      "metadata": {
        "id": "ciB2NAEr_Ztv"
      },
      "source": [
        "# model_conv = torchvision.models.resnet18(pretrained=True)\n",
        "for param in model_conv.parameters():\n",
        "    param.requires_grad = False\n",
        "\n",
        "# Parameters of newly constructed modules have requires_grad=True by default\n",
        "num_ftrs = model_conv.last_linear.in_features\n",
        "model_conv.last_linear = nn.Linear(num_ftrs, 2)\n",
        "# model_conv.last_linear = nn.Linear(int(num_ftrs/4), 2)\n",
        "\n",
        "model_conv = model_conv.to(device)\n",
        "\n",
        "criterion = nn.CrossEntropyLoss()\n",
        "\n",
        "optimizer_conv = optim.Adam(model_conv.last_linear.parameters(), lr=lr)\n",
        "\n",
        "# Decay LR by a factor of 0.1 every 7 epochs\n",
        "# exp_lr_scheduler = lr_scheduler.StepLR(optimizer_conv, step_size=7, gamma=0.1)"
      ],
      "execution_count": 20,
      "outputs": []
    },
    {
      "cell_type": "code",
      "metadata": {
        "colab": {
          "base_uri": "https://localhost:8080/"
        },
        "id": "dBMtIpjw_ZrD",
        "outputId": "f7291cf4-37d4-41d6-b90a-80e71680251e"
      },
      "source": [
        "model_conv = train_model(model_conv, criterion, optimizer_conv, num_epochs=n_epochs)"
      ],
      "execution_count": 21,
      "outputs": [
        {
          "output_type": "stream",
          "text": [
            "Epoch 0/39\n",
            "----------\n"
          ],
          "name": "stdout"
        },
        {
          "output_type": "stream",
          "text": [
            "/usr/local/lib/python3.7/dist-packages/torch/nn/functional.py:718: UserWarning: Named tensors and all their associated APIs are an experimental feature and subject to change. Please do not use them for anything important until they are released as stable. (Triggered internally at  /pytorch/c10/core/TensorImpl.h:1156.)\n",
            "  return torch.max_pool2d(input, kernel_size, stride, padding, dilation, ceil_mode)\n"
          ],
          "name": "stderr"
        },
        {
          "output_type": "stream",
          "text": [
            "train Loss: 0.5601 Acc: 0.7162\n",
            "val Loss: 0.4899 Acc: 0.7639\n",
            "\n",
            "Epoch 1/39\n",
            "----------\n",
            "train Loss: 0.5216 Acc: 0.7456\n",
            "val Loss: 0.4852 Acc: 0.7694\n",
            "\n",
            "Epoch 2/39\n",
            "----------\n",
            "train Loss: 0.5141 Acc: 0.7511\n",
            "val Loss: 0.5013 Acc: 0.7559\n",
            "\n",
            "Epoch 3/39\n",
            "----------\n",
            "train Loss: 0.5086 Acc: 0.7590\n",
            "val Loss: 0.4839 Acc: 0.7649\n",
            "\n",
            "Epoch 4/39\n",
            "----------\n",
            "train Loss: 0.4949 Acc: 0.7643\n",
            "val Loss: 0.4918 Acc: 0.7552\n",
            "\n",
            "Epoch 5/39\n",
            "----------\n",
            "train Loss: 0.4991 Acc: 0.7590\n",
            "val Loss: 0.4835 Acc: 0.7722\n",
            "\n",
            "Epoch 6/39\n",
            "----------\n",
            "train Loss: 0.4892 Acc: 0.7641\n",
            "val Loss: 0.4684 Acc: 0.7707\n",
            "\n",
            "Epoch 7/39\n",
            "----------\n",
            "train Loss: 0.4862 Acc: 0.7653\n",
            "val Loss: 0.4643 Acc: 0.7769\n",
            "\n",
            "Epoch 8/39\n",
            "----------\n",
            "train Loss: 0.4961 Acc: 0.7581\n",
            "val Loss: 0.4668 Acc: 0.7754\n",
            "\n",
            "Epoch 9/39\n",
            "----------\n",
            "train Loss: 0.4859 Acc: 0.7626\n",
            "val Loss: 0.4803 Acc: 0.7734\n",
            "\n",
            "Epoch 10/39\n",
            "----------\n",
            "train Loss: 0.4852 Acc: 0.7738\n",
            "val Loss: 0.5082 Acc: 0.7487\n",
            "\n",
            "Epoch 11/39\n",
            "----------\n",
            "train Loss: 0.4877 Acc: 0.7672\n",
            "val Loss: 0.5064 Acc: 0.7612\n",
            "\n",
            "Epoch 12/39\n",
            "----------\n",
            "train Loss: 0.4917 Acc: 0.7652\n",
            "val Loss: 0.4469 Acc: 0.7862\n",
            "\n",
            "Epoch 13/39\n",
            "----------\n",
            "train Loss: 0.4769 Acc: 0.7756\n",
            "val Loss: 0.4795 Acc: 0.7659\n",
            "\n",
            "Epoch 14/39\n",
            "----------\n",
            "train Loss: 0.4635 Acc: 0.7821\n",
            "val Loss: 0.4674 Acc: 0.7784\n",
            "\n",
            "Epoch 15/39\n",
            "----------\n",
            "train Loss: 0.4720 Acc: 0.7831\n",
            "val Loss: 0.4717 Acc: 0.7777\n",
            "\n",
            "Epoch 16/39\n",
            "----------\n",
            "train Loss: 0.4874 Acc: 0.7708\n",
            "val Loss: 0.5161 Acc: 0.7452\n",
            "\n",
            "Epoch 17/39\n",
            "----------\n",
            "train Loss: 0.4810 Acc: 0.7707\n",
            "val Loss: 0.4784 Acc: 0.7702\n",
            "\n",
            "Epoch 18/39\n",
            "----------\n",
            "train Loss: 0.4686 Acc: 0.7806\n",
            "val Loss: 0.5967 Acc: 0.6989\n",
            "\n",
            "Epoch 19/39\n",
            "----------\n",
            "train Loss: 0.4619 Acc: 0.7887\n",
            "val Loss: 0.4801 Acc: 0.7772\n",
            "\n",
            "Epoch 20/39\n",
            "----------\n",
            "train Loss: 0.4680 Acc: 0.7836\n",
            "val Loss: 0.4935 Acc: 0.7607\n",
            "\n",
            "Epoch 21/39\n",
            "----------\n",
            "train Loss: 0.4688 Acc: 0.7800\n",
            "val Loss: 0.4635 Acc: 0.7832\n",
            "\n",
            "Epoch 22/39\n",
            "----------\n",
            "train Loss: 0.4753 Acc: 0.7740\n",
            "val Loss: 0.4536 Acc: 0.7867\n",
            "\n",
            "Epoch 23/39\n",
            "----------\n",
            "train Loss: 0.4718 Acc: 0.7812\n",
            "val Loss: 0.4677 Acc: 0.7784\n",
            "\n",
            "Epoch 24/39\n",
            "----------\n",
            "train Loss: 0.4661 Acc: 0.7758\n",
            "val Loss: 0.4674 Acc: 0.7819\n",
            "\n",
            "Epoch 25/39\n",
            "----------\n",
            "train Loss: 0.4564 Acc: 0.7848\n",
            "val Loss: 0.4725 Acc: 0.7757\n",
            "\n",
            "Epoch 26/39\n",
            "----------\n",
            "train Loss: 0.4702 Acc: 0.7792\n",
            "val Loss: 0.5377 Acc: 0.7577\n",
            "\n",
            "Epoch 27/39\n",
            "----------\n",
            "train Loss: 0.4753 Acc: 0.7763\n",
            "val Loss: 0.4681 Acc: 0.7837\n",
            "\n",
            "Epoch 28/39\n",
            "----------\n",
            "train Loss: 0.4708 Acc: 0.7816\n",
            "val Loss: 0.4611 Acc: 0.7864\n",
            "\n",
            "Epoch 29/39\n",
            "----------\n",
            "train Loss: 0.4677 Acc: 0.7815\n",
            "val Loss: 0.4710 Acc: 0.7812\n",
            "\n",
            "Epoch 30/39\n",
            "----------\n",
            "train Loss: 0.4635 Acc: 0.7828\n",
            "val Loss: 0.4896 Acc: 0.7749\n",
            "\n",
            "Epoch 31/39\n",
            "----------\n",
            "train Loss: 0.4677 Acc: 0.7853\n",
            "val Loss: 0.4701 Acc: 0.7839\n",
            "\n",
            "Epoch 32/39\n",
            "----------\n",
            "train Loss: 0.4758 Acc: 0.7768\n",
            "val Loss: 0.4735 Acc: 0.7719\n",
            "\n",
            "Epoch 33/39\n",
            "----------\n",
            "train Loss: 0.4652 Acc: 0.7813\n",
            "val Loss: 0.4746 Acc: 0.7787\n",
            "\n",
            "Epoch 34/39\n",
            "----------\n",
            "train Loss: 0.4593 Acc: 0.7816\n",
            "val Loss: 0.4751 Acc: 0.7852\n",
            "\n",
            "Epoch 35/39\n",
            "----------\n",
            "train Loss: 0.4666 Acc: 0.7871\n",
            "val Loss: 0.4694 Acc: 0.7817\n",
            "\n",
            "Epoch 36/39\n",
            "----------\n",
            "train Loss: 0.4544 Acc: 0.7885\n",
            "val Loss: 0.4737 Acc: 0.7767\n",
            "\n",
            "Epoch 37/39\n",
            "----------\n",
            "train Loss: 0.4634 Acc: 0.7841\n",
            "val Loss: 0.5292 Acc: 0.7399\n",
            "\n",
            "Epoch 38/39\n",
            "----------\n",
            "train Loss: 0.4683 Acc: 0.7822\n",
            "val Loss: 0.4882 Acc: 0.7639\n",
            "\n",
            "Epoch 39/39\n",
            "----------\n",
            "train Loss: 0.4650 Acc: 0.7796\n",
            "val Loss: 0.4711 Acc: 0.7829\n",
            "\n",
            "Training complete in 65m 60s\n",
            "Best val Acc: 0.786697\n"
          ],
          "name": "stdout"
        }
      ]
    },
    {
      "cell_type": "code",
      "metadata": {
        "id": "_CFzx4p_CHJW"
      },
      "source": [
        "torch.save(model_conv.state_dict(), \"xception_40epochs_adam_latest.pth\")"
      ],
      "execution_count": 22,
      "outputs": []
    },
    {
      "cell_type": "code",
      "metadata": {
        "colab": {
          "base_uri": "https://localhost:8080/",
          "height": 581
        },
        "id": "cA09Y_Kj_Zoe",
        "outputId": "941446b7-047b-469b-e982-eb23bdbd0f81"
      },
      "source": [
        "visualize_model(model_conv)\n",
        "\n",
        "plt.ioff()\n",
        "plt.show()"
      ],
      "execution_count": 23,
      "outputs": [
        {
          "output_type": "display_data",
          "data": {
            "image/png": "[encoded data removed]",
            "text/plain": [
              "<Figure size 432x288 with 1 Axes>"
            ]
          },
          "metadata": {
            "tags": [],
            "needs_background": "light"
          }
        },
        {
          "output_type": "display_data",
          "data": {
            "image/png": "[encoded data removed]",
            "text/plain": [
              "<Figure size 432x288 with 1 Axes>"
            ]
          },
          "metadata": {
            "tags": [],
            "needs_background": "light"
          }
        },
        {
          "output_type": "display_data",
          "data": {
            "image/png": "[encoded data removed]",
            "text/plain": [
              "<Figure size 432x288 with 1 Axes>"
            ]
          },
          "metadata": {
            "tags": [],
            "needs_background": "light"
          }
        },
        {
          "output_type": "display_data",
          "data": {
            "image/png": "[encoded data removed]",
            "text/plain": [
              "<Figure size 432x288 with 1 Axes>"
            ]
          },
          "metadata": {
            "tags": [],
            "needs_background": "light"
          }
        },
        {
          "output_type": "display_data",
          "data": {
            "image/png": "[encoded data removed]",
            "text/plain": [
              "<Figure size 432x288 with 1 Axes>"
            ]
          },
          "metadata": {
            "tags": [],
            "needs_background": "light"
          }
        },
        {
          "output_type": "display_data",
          "data": {
            "image/png": "[encoded data removed]",
            "text/plain": [
              "<Figure size 432x288 with 1 Axes>"
            ]
          },
          "metadata": {
            "tags": [],
            "needs_background": "light"
          }
        }
      ]
    },
    {
      "cell_type": "code",
      "metadata": {
        "colab": {
          "base_uri": "https://localhost:8080/"
        },
        "id": "finQha2n_ZgG",
        "outputId": "e74949d5-dc10-4018-e0c8-098939b1030b"
      },
      "source": [
        "# Testing loop\n",
        "test_loader = dataloaders[\"test\"]\n",
        "correct, total = 0, 0\n",
        "\n",
        "all_preds = []\n",
        "all_targets = []\n",
        "outs = []\n",
        "\n",
        "model_conv.eval()  # Set model to evaluation mode.\n",
        "with torch.no_grad():\n",
        "  \n",
        "  # Iterate over the test data and generate predictions\n",
        "  for i, data in enumerate(test_loader, 0):\n",
        "    \n",
        "    # Get inputs\n",
        "    inputs, targets = data\n",
        "\n",
        "    inputs = inputs.to(device)\n",
        "    targets = targets.to(device)\n",
        "    \n",
        "    # Generate outputs\n",
        "    outputs = model_conv(inputs)\n",
        "    \n",
        "    # Set total and correct\n",
        "    _, predicted = torch.max(outputs.data, 1)\n",
        "    total += targets.size(0)\n",
        "    correct += (predicted == targets).sum().item()\n",
        "\n",
        "    all_preds.append(predicted)\n",
        "    all_targets.append(targets)\n",
        "    outs.append(outputs.data)\n",
        "    \n",
        "  # Print accuracy\n",
        "  print(f\"Accuracy: {100 * correct / total}\")"
      ],
      "execution_count": 24,
      "outputs": [
        {
          "output_type": "stream",
          "text": [
            "Accuracy: 78.26413206603301\n"
          ],
          "name": "stdout"
        }
      ]
    },
    {
      "cell_type": "code",
      "metadata": {
        "colab": {
          "base_uri": "https://localhost:8080/"
        },
        "id": "NZr9ir8aEVEX",
        "outputId": "9b4abbf0-201b-4a6b-97de-7b2acb57c2f2"
      },
      "source": [
        "print(f\"Accuracy: {correct/total}\")"
      ],
      "execution_count": 25,
      "outputs": [
        {
          "output_type": "stream",
          "text": [
            "Accuracy: 0.7826413206603302\n"
          ],
          "name": "stdout"
        }
      ]
    },
    {
      "cell_type": "code",
      "metadata": {
        "id": "UFJgKnXNG_IC"
      },
      "source": [
        "for pred in all_preds:\n",
        "  pred = pred.cpu().numpy()"
      ],
      "execution_count": 26,
      "outputs": []
    },
    {
      "cell_type": "code",
      "metadata": {
        "id": "__fIdxSuIwsd"
      },
      "source": [
        "preds = np.hstack([pred.cpu().numpy() for pred in all_preds])\n",
        "targets_ = np.hstack([target_.cpu().numpy() for target_ in all_targets])"
      ],
      "execution_count": 27,
      "outputs": []
    },
    {
      "cell_type": "code",
      "metadata": {
        "colab": {
          "base_uri": "https://localhost:8080/"
        },
        "id": "fT2btSKpJUeg",
        "outputId": "2233f6a0-af61-42e9-b40d-2bd43a670170"
      },
      "source": [
        "!pip install plot-metric"
      ],
      "execution_count": 28,
      "outputs": [
        {
          "output_type": "stream",
          "text": [
            "Collecting plot-metric\n",
            "  Downloading https://files.pythonhosted.org/packages/95/2a/dae5d81116c8226c7fdbd711460ea568ac87420cd447cf219524695646c2/plot_metric-0.0.6-py3-none-any.whl\n",
            "Requirement already satisfied: scipy>=1.1.0 in /usr/local/lib/python3.7/dist-packages (from plot-metric) (1.4.1)\n",
            "Requirement already satisfied: matplotlib>=3.0.2 in /usr/local/lib/python3.7/dist-packages (from plot-metric) (3.2.2)\n",
            "Requirement already satisfied: pandas>=0.23.4 in /usr/local/lib/python3.7/dist-packages (from plot-metric) (1.1.5)\n",
            "Requirement already satisfied: scikit-learn>=0.21.2 in /usr/local/lib/python3.7/dist-packages (from plot-metric) (0.22.2.post1)\n",
            "Requirement already satisfied: numpy>=1.15.4 in /usr/local/lib/python3.7/dist-packages (from plot-metric) (1.19.5)\n",
            "Requirement already satisfied: colorlover>=0.3.0 in /usr/local/lib/python3.7/dist-packages (from plot-metric) (0.3.0)\n",
            "Requirement already satisfied: seaborn>=0.9.0 in /usr/local/lib/python3.7/dist-packages (from plot-metric) (0.11.1)\n",
            "Requirement already satisfied: kiwisolver>=1.0.1 in /usr/local/lib/python3.7/dist-packages (from matplotlib>=3.0.2->plot-metric) (1.3.1)\n",
            "Requirement already satisfied: cycler>=0.10 in /usr/local/lib/python3.7/dist-packages (from matplotlib>=3.0.2->plot-metric) (0.10.0)\n",
            "Requirement already satisfied: python-dateutil>=2.1 in /usr/local/lib/python3.7/dist-packages (from matplotlib>=3.0.2->plot-metric) (2.8.1)\n",
            "Requirement already satisfied: pyparsing!=2.0.4,!=2.1.2,!=2.1.6,>=2.0.1 in /usr/local/lib/python3.7/dist-packages (from matplotlib>=3.0.2->plot-metric) (2.4.7)\n",
            "Requirement already satisfied: pytz>=2017.2 in /usr/local/lib/python3.7/dist-packages (from pandas>=0.23.4->plot-metric) (2018.9)\n",
            "Requirement already satisfied: joblib>=0.11 in /usr/local/lib/python3.7/dist-packages (from scikit-learn>=0.21.2->plot-metric) (1.0.1)\n",
            "Requirement already satisfied: six in /usr/local/lib/python3.7/dist-packages (from cycler>=0.10->matplotlib>=3.0.2->plot-metric) (1.15.0)\n",
            "Installing collected packages: plot-metric\n",
            "Successfully installed plot-metric-0.0.6\n"
          ],
          "name": "stdout"
        }
      ]
    },
    {
      "cell_type": "code",
      "metadata": {
        "id": "NwUdvDR6Kvph"
      },
      "source": [
        "from plot_metric.functions import BinaryClassification"
      ],
      "execution_count": 29,
      "outputs": []
    },
    {
      "cell_type": "code",
      "metadata": {
        "colab": {
          "base_uri": "https://localhost:8080/",
          "height": 621
        },
        "id": "0JIoMj7oKefW",
        "outputId": "f9449f48-89b5-4a4e-c2dc-ec4ff8715669"
      },
      "source": [
        "# Visualisation with plot_metric\n",
        "bc = BinaryClassification(targets_, preds, labels=[\"Class 1\", \"Class 2\"])\n",
        "\n",
        "# Figures\n",
        "plt.figure(figsize=(10,10))\n",
        "bc.plot_roc_curve()\n",
        "plt.show()"
      ],
      "execution_count": 30,
      "outputs": [
        {
          "output_type": "display_data",
          "data": {
            "image/png": "[encoded data removed]",
            "text/plain": [
              "<Figure size 720x720 with 1 Axes>"
            ]
          },
          "metadata": {
            "tags": []
          }
        }
      ]
    },
    {
      "cell_type": "code",
      "metadata": {
        "id": "IY8Jx5kDKjur"
      },
      "source": [
        "from sklearn.metrics import confusion_matrix"
      ],
      "execution_count": 31,
      "outputs": []
    },
    {
      "cell_type": "code",
      "metadata": {
        "colab": {
          "base_uri": "https://localhost:8080/"
        },
        "id": "Q9LVF9kvQUKS",
        "outputId": "c0347633-ab34-4028-9ffe-61594cc0085a"
      },
      "source": [
        "conf_matrix = confusion_matrix(targets_, preds)\n",
        "print(conf_matrix)"
      ],
      "execution_count": 32,
      "outputs": [
        {
          "output_type": "stream",
          "text": [
            "[[1039  459]\n",
            " [ 410 2090]]\n"
          ],
          "name": "stdout"
        }
      ]
    },
    {
      "cell_type": "code",
      "metadata": {
        "colab": {
          "base_uri": "https://localhost:8080/",
          "height": 273
        },
        "id": "7XquAg6dQZQ0",
        "outputId": "04bbb6db-bcdd-4b59-be1f-ff450abd2b10"
      },
      "source": [
        "import pandas as pd\n",
        "import seaborn as sns\n",
        "\n",
        "df_cm = pd.DataFrame(conf_matrix, range(2), range(2))\n",
        "\n",
        "sns.set(font_scale=1.4) # for label size\n",
        "sns.heatmap(df_cm, annot=True, annot_kws={\"size\": 16}, fmt=\".2f\") # font size\n",
        "\n",
        "plt.show()"
      ],
      "execution_count": 33,
      "outputs": [
        {
          "output_type": "display_data",
          "data": {
            "image/png": "[encoded data removed]",
            "text/plain": [
              "<Figure size 432x288 with 2 Axes>"
            ]
          },
          "metadata": {
            "tags": []
          }
        }
      ]
    },
    {
      "cell_type": "code",
      "metadata": {
        "id": "ZzVkuM7wNNEB"
      },
      "source": [
        "from sklearn.metrics import precision_score, recall_score, f1_score"
      ],
      "execution_count": 58,
      "outputs": []
    },
    {
      "cell_type": "code",
      "metadata": {
        "colab": {
          "base_uri": "https://localhost:8080/"
        },
        "id": "CeJOlGlZNNBk",
        "outputId": "e9fdeba1-e8ac-4698-af66-baa36605ec21"
      },
      "source": [
        "precision = precision_score(targets_, preds, average='binary')\n",
        "recall = recall_score(targets_, preds, average='binary')\n",
        "f1_score = f1_score(targets_, preds, average='binary')\n",
        "\n",
        "print(f\"Precision: {precision}\")\n",
        "print(f\"Recall: {recall}\")\n",
        "print(f\"F1 Score: {f1_score}\")"
      ],
      "execution_count": 59,
      "outputs": [
        {
          "output_type": "stream",
          "text": [
            "Precision: 0.8199293840721852\n",
            "Recall: 0.836\n",
            "F1 Score: 0.8278867102396514\n"
          ],
          "name": "stdout"
        }
      ]
    },
    {
      "cell_type": "code",
      "metadata": {
        "id": "tbAo2rhONM_J"
      },
      "source": [
        ""
      ],
      "execution_count": null,
      "outputs": []
    },
    {
      "cell_type": "code",
      "metadata": {
        "id": "AzTqOIX6NM71"
      },
      "source": [
        ""
      ],
      "execution_count": null,
      "outputs": []
    },
    {
      "cell_type": "code",
      "metadata": {
        "id": "8pSFcWzBU1zO"
      },
      "source": [
        "outs_last_excluded = np.hstack([out.cpu().numpy() for out in outs[:-1]])"
      ],
      "execution_count": 34,
      "outputs": []
    },
    {
      "cell_type": "code",
      "metadata": {
        "id": "uClXg9LEVYnu"
      },
      "source": [
        "final_outs = np.hstack([ans for ans in outs_last_excluded])"
      ],
      "execution_count": 35,
      "outputs": []
    },
    {
      "cell_type": "code",
      "metadata": {
        "id": "dbe5NtD9WYCR"
      },
      "source": [
        "outs = [out.cpu().numpy() for out in outs]"
      ],
      "execution_count": 36,
      "outputs": []
    },
    {
      "cell_type": "code",
      "metadata": {
        "id": "Wx2KWdJnV36r"
      },
      "source": [
        "answer = [np.hstack(outs[i][:, 0]) for i in range(len(outs))]"
      ],
      "execution_count": 37,
      "outputs": []
    },
    {
      "cell_type": "code",
      "metadata": {
        "id": "9tAmmVqyXUJo"
      },
      "source": [
        "class_1_raw_preds = np.hstack([ans for ans in answer])"
      ],
      "execution_count": 38,
      "outputs": []
    },
    {
      "cell_type": "code",
      "metadata": {
        "id": "Yj01CJUXYoXn"
      },
      "source": [
        "answer2 = [np.hstack(outs[i][:, -1]) for i in range(len(outs))]"
      ],
      "execution_count": 39,
      "outputs": []
    },
    {
      "cell_type": "code",
      "metadata": {
        "id": "3OZT5eW3Yokn"
      },
      "source": [
        "class_2_raw_preds = np.hstack([ans for ans in answer2])"
      ],
      "execution_count": 40,
      "outputs": []
    },
    {
      "cell_type": "code",
      "metadata": {
        "id": "24bg-oqB2SQl"
      },
      "source": [
        "class_22_raw_preds = 1 - class_2_raw_preds"
      ],
      "execution_count": 41,
      "outputs": []
    },
    {
      "cell_type": "code",
      "metadata": {
        "id": "5u2koCOq3lzS"
      },
      "source": [
        "# c1 = np.abs(class_1_raw_preds)\n",
        "# c2 = np.abs(class_2_raw_preds)\n",
        "\n",
        "# import matplotlib.pyplot as plt\n",
        "\n",
        "# fig, ax = plt.subplots(nrows=1, ncols=2, figsize=(30, 10));\n",
        "\n",
        "# hist_style_all = dict(histtype=\"step\", color=\"darkgreen\", label=\"All\")\n",
        "# hist_style_class1 = dict(histtype=\"step\", color=\"midnightblue\", label=\"merger\")\n",
        "# hist_style_class2 = dict(histtype=\"step\", color=\"firebrick\", label=\"non-interacting\")\n",
        "\n",
        "# # ax1.hist(preds, bins=np.linspace(0, 1, 50), **hist_style_all);\n",
        "\n",
        "# # ax1.set_xlabel(\"Prediction\", fontsize=16);\n",
        "# # ax1.set_ylabel(\"\", fontsize=16);\n",
        "# # ax1.set_title(\"Individual predictions (both)\");\n",
        "# # ax1.legend(frameon=False);\n",
        "\n",
        "# ax[0].hist(c1[targets_.astype(bool)], bins=np.linspace(0, 1, 50),\n",
        "#         **hist_style_class1);\n",
        "# ax[0].hist(c2[~(targets_.astype(bool))], bins=np.linspace(0, 1, 50),\n",
        "#         **hist_style_class2);\n",
        "\n",
        "# ax[0].set_xlabel(\"Prediction\", fontsize=16);\n",
        "# ax[0].set_ylabel(\"\", fontsize=16);\n",
        "# ax[0].set_title(\"Individual predictions (both)\")\n",
        "# ax[0].legend(frameon=False);"
      ],
      "execution_count": 42,
      "outputs": []
    },
    {
      "cell_type": "code",
      "metadata": {
        "colab": {
          "base_uri": "https://localhost:8080/",
          "height": 435
        },
        "id": "oT6e2BhmRK9K",
        "outputId": "72459bb2-a1fc-4a5a-cbf5-61737bb4ab21"
      },
      "source": [
        "import matplotlib.pyplot as plt\n",
        "\n",
        "fig, ax = plt.subplots(nrows=1, ncols=2, figsize=(30, 10));\n",
        "\n",
        "hist_style_all = dict(histtype=\"step\", color=\"darkgreen\", label=\"All\")\n",
        "hist_style_class1 = dict(histtype=\"step\", color=\"midnightblue\", label=\"merger\")\n",
        "hist_style_class2 = dict(histtype=\"step\", color=\"firebrick\", label=\"non-interacting\")\n",
        "\n",
        "# ax1.hist(preds, bins=np.linspace(0, 1, 50), **hist_style_all);\n",
        "\n",
        "# ax1.set_xlabel(\"Prediction\", fontsize=16);\n",
        "# ax1.set_ylabel(\"\", fontsize=16);\n",
        "# ax1.set_title(\"Individual predictions (both)\");\n",
        "# ax1.legend(frameon=False);\n",
        "\n",
        "ax[0].hist(class_1_raw_preds[targets_.astype(bool)], bins=np.linspace(0, 1, 50),\n",
        "        **hist_style_class1);\n",
        "ax[0].hist(class_22_raw_preds[~(targets_.astype(bool))], bins=np.linspace(0, 1, 50),\n",
        "        **hist_style_class2);\n",
        "\n",
        "ax[0].set_xlabel(\"Prediction\", fontsize=16);\n",
        "ax[0].set_ylabel(\"\", fontsize=16);\n",
        "ax[0].set_title(\"Individual predictions (both)\")\n",
        "ax[0].legend(frameon=False);"
      ],
      "execution_count": 43,
      "outputs": [
        {
          "output_type": "display_data",
          "data": {
            "image/png": "[encoded data removed]",
            "text/plain": [
              "<Figure size 2160x720 with 2 Axes>"
            ]
          },
          "metadata": {
            "tags": []
          }
        }
      ]
    },
    {
      "cell_type": "code",
      "metadata": {
        "colab": {
          "base_uri": "https://localhost:8080/"
        },
        "id": "CfY9kiLpTIaV",
        "outputId": "0935dee9-6faa-4ec0-c51f-057869d680e6"
      },
      "source": [
        "!ls dataset_zurich/test/merger | wc -l"
      ],
      "execution_count": 44,
      "outputs": [
        {
          "output_type": "stream",
          "text": [
            "1498\n"
          ],
          "name": "stdout"
        }
      ]
    },
    {
      "cell_type": "code",
      "metadata": {
        "colab": {
          "base_uri": "https://localhost:8080/"
        },
        "id": "P-XQmRwDZvW2",
        "outputId": "66bd7e83-4f49-4218-fb29-9627f15d7357"
      },
      "source": [
        "!ls dataset_zurich/test/noninteracting | wc -l"
      ],
      "execution_count": 45,
      "outputs": [
        {
          "output_type": "stream",
          "text": [
            "2500\n"
          ],
          "name": "stdout"
        }
      ]
    },
    {
      "cell_type": "code",
      "metadata": {
        "colab": {
          "base_uri": "https://localhost:8080/"
        },
        "id": "ImQt3NvpZxF1",
        "outputId": "38f63361-0b35-4bd9-d4cf-5d483b5cc5a6"
      },
      "source": [
        "!ls dataset_zurich/train/merger | wc -l"
      ],
      "execution_count": 46,
      "outputs": [
        {
          "output_type": "stream",
          "text": [
            "3003\n"
          ],
          "name": "stdout"
        }
      ]
    },
    {
      "cell_type": "code",
      "metadata": {
        "colab": {
          "base_uri": "https://localhost:8080/"
        },
        "id": "okKTWVxtZ1qL",
        "outputId": "18484078-ca6e-4942-d8e8-6c6aab45e775"
      },
      "source": [
        "!ls dataset_zurich/train/noninteracting | wc -l"
      ],
      "execution_count": 47,
      "outputs": [
        {
          "output_type": "stream",
          "text": [
            "5000\n"
          ],
          "name": "stdout"
        }
      ]
    },
    {
      "cell_type": "code",
      "metadata": {
        "colab": {
          "base_uri": "https://localhost:8080/"
        },
        "id": "gqsuIKvqZ3HJ",
        "outputId": "030e3746-79aa-468e-b70d-2196709e8bbe"
      },
      "source": [
        "!ls dataset_zurich/val/merger | wc -l"
      ],
      "execution_count": 48,
      "outputs": [
        {
          "output_type": "stream",
          "text": [
            "1499\n"
          ],
          "name": "stdout"
        }
      ]
    },
    {
      "cell_type": "code",
      "metadata": {
        "colab": {
          "base_uri": "https://localhost:8080/"
        },
        "id": "KczbGN8taDM6",
        "outputId": "e659bd75-beb4-4749-d20d-d196f63540ba"
      },
      "source": [
        "!ls dataset_zurich/val/noninteracting | wc -l"
      ],
      "execution_count": 49,
      "outputs": [
        {
          "output_type": "stream",
          "text": [
            "2500\n"
          ],
          "name": "stdout"
        }
      ]
    },
    {
      "cell_type": "code",
      "metadata": {
        "id": "NwiSTAtSaF6B"
      },
      "source": [
        ""
      ],
      "execution_count": 49,
      "outputs": []
    }
  ]
}
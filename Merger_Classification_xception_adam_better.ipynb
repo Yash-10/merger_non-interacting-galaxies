{
  "nbformat": 4,
  "nbformat_minor": 0,
  "metadata": {
    "colab": {
      "name": "Merger_Classification_XCEPTION_adam_better.ipynb",
      "provenance": [],
      "collapsed_sections": []
    },
    "kernelspec": {
      "name": "python3",
      "display_name": "Python 3"
    },
    "language_info": {
      "name": "python"
    },
    "accelerator": "GPU"
  },
  "cells": [
    {
      "cell_type": "code",
      "metadata": {
        "id": "J2llYuL95-jd"
      },
      "source": [
        "import os\n",
        "import time\n",
        "import copy\n",
        "import numpy as np\n",
        "import matplotlib.pyplot as plt\n",
        "\n",
        "import torchvision\n",
        "import torch\n",
        "import torch.nn as nn\n",
        "import torch.optim as optim\n",
        "from torch.optim import lr_scheduler\n",
        "\n",
        "from torchvision import datasets, transforms, models\n",
        "\n",
        "import pretrainedmodels.utils as utils"
      ],
      "execution_count": 1,
      "outputs": []
    },
    {
      "cell_type": "code",
      "metadata": {
        "colab": {
          "base_uri": "https://localhost:8080/"
        },
        "id": "nkKcnUADqHbb",
        "outputId": "c2f1a24f-25ee-486d-cc6c-a887c6d7acbf"
      },
      "source": [
        "from google.colab import drive\n",
        "drive.mount(\"/content/drive\")"
      ],
      "execution_count": 2,
      "outputs": [
        {
          "output_type": "stream",
          "text": [
            "Drive already mounted at /content/drive; to attempt to forcibly remount, call drive.mount(\"/content/drive\", force_remount=True).\n"
          ],
          "name": "stdout"
        }
      ]
    },
    {
      "cell_type": "code",
      "metadata": {
        "id": "Uxzp3dIRWbZ2"
      },
      "source": [
        "!unzip drive/MyDrive/dataset.zip"
      ],
      "execution_count": null,
      "outputs": []
    },
    {
      "cell_type": "code",
      "metadata": {
        "id": "dYrSbzxy_cWD"
      },
      "source": [
        "device = torch.device(\"cuda:0\" if torch.cuda.is_available() else \"cpu\")"
      ],
      "execution_count": 2,
      "outputs": []
    },
    {
      "cell_type": "code",
      "metadata": {
        "colab": {
          "base_uri": "https://localhost:8080/"
        },
        "id": "umSn54dbsOCw",
        "outputId": "51875707-050d-47f8-883c-aa4b4b09ef3c"
      },
      "source": [
        "image = plt.imread(\"/content/dataset_zurich/train/merger/587722952231026743.jpeg\")\n",
        "image.shape"
      ],
      "execution_count": 3,
      "outputs": [
        {
          "output_type": "execute_result",
          "data": {
            "text/plain": [
              "(631, 631, 3)"
            ]
          },
          "metadata": {
            "tags": []
          },
          "execution_count": 3
        }
      ]
    },
    {
      "cell_type": "code",
      "metadata": {
        "colab": {
          "base_uri": "https://localhost:8080/"
        },
        "id": "sW8uguUGufaE",
        "outputId": "bd44d5ad-8d95-48cd-df67-c4cdad3cc343"
      },
      "source": [
        "!pip install pretrainedmodels"
      ],
      "execution_count": 4,
      "outputs": [
        {
          "output_type": "stream",
          "text": [
            "Requirement already satisfied: pretrainedmodels in /usr/local/lib/python3.7/dist-packages (0.7.4)\n",
            "Requirement already satisfied: munch in /usr/local/lib/python3.7/dist-packages (from pretrainedmodels) (2.5.0)\n",
            "Requirement already satisfied: tqdm in /usr/local/lib/python3.7/dist-packages (from pretrainedmodels) (4.41.1)\n",
            "Requirement already satisfied: torchvision in /usr/local/lib/python3.7/dist-packages (from pretrainedmodels) (0.9.1+cu101)\n",
            "Requirement already satisfied: torch in /usr/local/lib/python3.7/dist-packages (from pretrainedmodels) (1.8.1+cu101)\n",
            "Requirement already satisfied: six in /usr/local/lib/python3.7/dist-packages (from munch->pretrainedmodels) (1.15.0)\n",
            "Requirement already satisfied: numpy in /usr/local/lib/python3.7/dist-packages (from torchvision->pretrainedmodels) (1.19.5)\n",
            "Requirement already satisfied: pillow>=4.1.1 in /usr/local/lib/python3.7/dist-packages (from torchvision->pretrainedmodels) (7.1.2)\n",
            "Requirement already satisfied: typing-extensions in /usr/local/lib/python3.7/dist-packages (from torch->pretrainedmodels) (3.7.4.3)\n"
          ],
          "name": "stdout"
        }
      ]
    },
    {
      "cell_type": "code",
      "metadata": {
        "id": "Z35vRtg4uWdD"
      },
      "source": [
        "import pretrainedmodels"
      ],
      "execution_count": 5,
      "outputs": []
    },
    {
      "cell_type": "code",
      "metadata": {
        "colab": {
          "base_uri": "https://localhost:8080/"
        },
        "id": "XlepD1I_uXQz",
        "outputId": "ff07d839-d65f-4189-ae04-1048eff9aa69"
      },
      "source": [
        "pretrainedmodels.model_names"
      ],
      "execution_count": 6,
      "outputs": [
        {
          "output_type": "execute_result",
          "data": {
            "text/plain": [
              "['fbresnet152',\n",
              " 'bninception',\n",
              " 'resnext101_32x4d',\n",
              " 'resnext101_64x4d',\n",
              " 'inceptionv4',\n",
              " 'inceptionresnetv2',\n",
              " 'alexnet',\n",
              " 'densenet121',\n",
              " 'densenet169',\n",
              " 'densenet201',\n",
              " 'densenet161',\n",
              " 'resnet18',\n",
              " 'resnet34',\n",
              " 'resnet50',\n",
              " 'resnet101',\n",
              " 'resnet152',\n",
              " 'inceptionv3',\n",
              " 'squeezenet1_0',\n",
              " 'squeezenet1_1',\n",
              " 'vgg11',\n",
              " 'vgg11_bn',\n",
              " 'vgg13',\n",
              " 'vgg13_bn',\n",
              " 'vgg16',\n",
              " 'vgg16_bn',\n",
              " 'vgg19_bn',\n",
              " 'vgg19',\n",
              " 'nasnetamobile',\n",
              " 'nasnetalarge',\n",
              " 'dpn68',\n",
              " 'dpn68b',\n",
              " 'dpn92',\n",
              " 'dpn98',\n",
              " 'dpn131',\n",
              " 'dpn107',\n",
              " 'xception',\n",
              " 'senet154',\n",
              " 'se_resnet50',\n",
              " 'se_resnet101',\n",
              " 'se_resnet152',\n",
              " 'se_resnext50_32x4d',\n",
              " 'se_resnext101_32x4d',\n",
              " 'cafferesnet101',\n",
              " 'pnasnet5large',\n",
              " 'polynet']"
            ]
          },
          "metadata": {
            "tags": []
          },
          "execution_count": 6
        }
      ]
    },
    {
      "cell_type": "code",
      "metadata": {
        "id": "cbluAE3iuSkh"
      },
      "source": [
        "# Import xception pre-trained model\n",
        "model_name = 'xception' # could be fbresnet152 or inceptionresnetv2\n",
        "model_conv = pretrainedmodels.__dict__[model_name](num_classes=1000, pretrained='imagenet')\n",
        "model_conv.eval()\n",
        "tf_img = utils.TransformImage(model_conv)"
      ],
      "execution_count": 7,
      "outputs": []
    },
    {
      "cell_type": "code",
      "metadata": {
        "id": "HD3LxLJqW337"
      },
      "source": [
        "data_transforms = tf_img"
      ],
      "execution_count": 8,
      "outputs": []
    },
    {
      "cell_type": "code",
      "metadata": {
        "id": "ZGdWJYPKkGLz"
      },
      "source": [
        "data_dir = \"/content/dataset_zurich\"\n",
        "types = [\"train\", \"val\", \"test\"]\n",
        "transform_types = [\"train\", \"val\"]  # Do not transform the test set (since it is not learned)\n",
        "\n",
        "batch_size = 8 # Smaller batch sizes are better for generalization to test set\n",
        "shuffle = True\n",
        "num_workers = 1\n",
        "\n",
        "image_datasets = {x: datasets.ImageFolder(os.path.join(data_dir, x), data_transforms) for x in transform_types}\n",
        "image_datasets[\"test\"] = datasets.ImageFolder(os.path.join(data_dir, \"test\"), data_transforms)  # Do not transform test set, only load it. \n",
        "\n",
        "dataloaders = {x: torch.utils.data.DataLoader(\n",
        "                image_datasets[x], batch_size=batch_size, shuffle=shuffle, num_workers=num_workers) for x in types\n",
        "              }\n",
        "\n",
        "dataset_sizes = {x: len(image_datasets[x]) for x in types}\n",
        "class_names = image_datasets['train'].classes"
      ],
      "execution_count": 9,
      "outputs": []
    },
    {
      "cell_type": "code",
      "metadata": {
        "colab": {
          "base_uri": "https://localhost:8080/"
        },
        "id": "-VkcRnnKo3Ik",
        "outputId": "748023bf-50f0-448a-9ec2-07f67ed9130e"
      },
      "source": [
        "class_names"
      ],
      "execution_count": 10,
      "outputs": [
        {
          "output_type": "execute_result",
          "data": {
            "text/plain": [
              "['merger', 'noninteracting']"
            ]
          },
          "metadata": {
            "tags": []
          },
          "execution_count": 10
        }
      ]
    },
    {
      "cell_type": "code",
      "metadata": {
        "colab": {
          "base_uri": "https://localhost:8080/"
        },
        "id": "2Gf3dCfwQABN",
        "outputId": "8496b52d-aa2f-4ee0-8fbd-9474781fa6ae"
      },
      "source": [
        "dataset_sizes"
      ],
      "execution_count": 11,
      "outputs": [
        {
          "output_type": "execute_result",
          "data": {
            "text/plain": [
              "{'test': 3998, 'train': 8003, 'val': 3999}"
            ]
          },
          "metadata": {
            "tags": []
          },
          "execution_count": 11
        }
      ]
    },
    {
      "cell_type": "code",
      "metadata": {
        "colab": {
          "base_uri": "https://localhost:8080/",
          "height": 106
        },
        "id": "XEl3eVSm7eRc",
        "outputId": "82c0e842-0f5d-44b2-a2b1-3f3c36375910"
      },
      "source": [
        "def imshow(inp, title=None):\n",
        "    \"\"\"Imshow for Tensor.\"\"\"\n",
        "    inp = inp.numpy().transpose((1, 2, 0))\n",
        "    mean = np.array([0.485, 0.456, 0.406])\n",
        "    std = np.array([0.229, 0.224, 0.225])\n",
        "    inp = std * inp + mean\n",
        "    inp = np.clip(inp, 0, 1)\n",
        "    plt.imshow(inp)\n",
        "    if title is not None:\n",
        "        plt.title(title)\n",
        "    plt.pause(0.001)  # pause a bit so that plots are updated\n",
        "\n",
        "\n",
        "# Get a batch of training data\n",
        "inputs, classes = next(iter(dataloaders['train']))\n",
        "\n",
        "# Make a grid from batch\n",
        "out = torchvision.utils.make_grid(inputs)\n",
        "\n",
        "imshow(out, title=[class_names[x] for x in classes])"
      ],
      "execution_count": 12,
      "outputs": [
        {
          "output_type": "display_data",
          "data": {
            "image/png": "[encoded data removed]",
            "text/plain": [
              "<Figure size 432x288 with 1 Axes>"
            ]
          },
          "metadata": {
            "tags": [],
            "needs_background": "light"
          }
        }
      ]
    },
    {
      "cell_type": "code",
      "metadata": {
        "id": "NfIH9phs7eKE"
      },
      "source": [
        "def train_model(model, criterion, optimizer, scheduler=None, num_epochs=25):\n",
        "    since = time.time()\n",
        "\n",
        "    best_model_wts = copy.deepcopy(model.state_dict())\n",
        "    best_acc = 0.0\n",
        "\n",
        "    for epoch in range(num_epochs):\n",
        "        print('Epoch {}/{}'.format(epoch, num_epochs - 1))\n",
        "        print('-' * 10)\n",
        "\n",
        "        # Each epoch has a training and validation phase\n",
        "        for phase in ['train', 'val']:\n",
        "            if phase == 'train':\n",
        "                model.train()  # Set model to training mode\n",
        "            else:\n",
        "                model.eval()   # Set model to evaluate mode\n",
        "\n",
        "            running_loss = 0.0\n",
        "            running_corrects = 0\n",
        "\n",
        "            # Iterate over data.\n",
        "            for inputs, labels in dataloaders[phase]:\n",
        "                inputs = inputs.to(device)\n",
        "                labels = labels.to(device)\n",
        "\n",
        "                # zero the parameter gradients\n",
        "                optimizer.zero_grad()\n",
        "\n",
        "                # forward\n",
        "                # track history if only in train\n",
        "                with torch.set_grad_enabled(phase == 'train'):\n",
        "                    outputs = model(inputs)\n",
        "                    _, preds = torch.max(outputs, 1)\n",
        "                    loss = criterion(outputs, labels)\n",
        "\n",
        "                    # backward + optimize only if in training phase\n",
        "                    if phase == 'train':\n",
        "                        loss.backward()\n",
        "                        optimizer.step()\n",
        "\n",
        "                # statistics\n",
        "                running_loss += loss.item() * inputs.size(0)\n",
        "                running_corrects += torch.sum(preds == labels.data)\n",
        "            # if phase == 'train':\n",
        "            #     scheduler.step()\n",
        "\n",
        "            epoch_loss = running_loss / dataset_sizes[phase]\n",
        "            epoch_acc = running_corrects.double() / dataset_sizes[phase]\n",
        "\n",
        "            print('{} Loss: {:.4f} Acc: {:.4f}'.format(\n",
        "                phase, epoch_loss, epoch_acc))\n",
        "\n",
        "            # deep copy the model\n",
        "            if phase == 'val' and epoch_acc > best_acc:\n",
        "                best_acc = epoch_acc\n",
        "                best_model_wts = copy.deepcopy(model.state_dict())\n",
        "\n",
        "        print()\n",
        "\n",
        "    time_elapsed = time.time() - since\n",
        "    print('Training complete in {:.0f}m {:.0f}s'.format(\n",
        "        time_elapsed // 60, time_elapsed % 60))\n",
        "    print('Best val Acc: {:4f}'.format(best_acc))\n",
        "\n",
        "    # load best model weights\n",
        "    model.load_state_dict(best_model_wts)\n",
        "    return model"
      ],
      "execution_count": 13,
      "outputs": []
    },
    {
      "cell_type": "code",
      "metadata": {
        "id": "BYxjgiZY7eHY"
      },
      "source": [
        "def visualize_model(model, num_images=6):\n",
        "    was_training = model.training\n",
        "    model.eval()\n",
        "    images_so_far = 0\n",
        "    fig = plt.figure()\n",
        "\n",
        "    with torch.no_grad():\n",
        "        for i, (inputs, labels) in enumerate(dataloaders['val']):\n",
        "            inputs = inputs.to(device)\n",
        "            labels = labels.to(device)\n",
        "\n",
        "            outputs = model(inputs)\n",
        "            _, preds = torch.max(outputs, 1)\n",
        "\n",
        "            for j in range(inputs.size()[0]):\n",
        "                images_so_far += 1\n",
        "                ax = plt.subplot(num_images//2, 2, images_so_far)\n",
        "                ax.axis('off')\n",
        "                ax.set_title('predicted: {}'.format(class_names[preds[j]]))\n",
        "                imshow(inputs.cpu().data[j])\n",
        "\n",
        "                if images_so_far == num_images:\n",
        "                    model.train(mode=was_training)\n",
        "                    return\n",
        "        model.train(mode=was_training)"
      ],
      "execution_count": 14,
      "outputs": []
    },
    {
      "cell_type": "code",
      "metadata": {
        "id": "5XHaucHYv14b"
      },
      "source": [
        "# Hyperparameters from the paper (A1. Main Experiment)\n",
        "n_epochs = 40\n",
        "lr = 0.0015\n",
        "momentum = None"
      ],
      "execution_count": 15,
      "outputs": []
    },
    {
      "cell_type": "code",
      "metadata": {
        "colab": {
          "base_uri": "https://localhost:8080/"
        },
        "id": "jNJVvY4DvKh7",
        "outputId": "d8c59e50-b28d-411d-8d2d-2c465994485a"
      },
      "source": [
        "model_conv"
      ],
      "execution_count": 16,
      "outputs": [
        {
          "output_type": "execute_result",
          "data": {
            "text/plain": [
              "Xception(\n",
              "  (conv1): Conv2d(3, 32, kernel_size=(3, 3), stride=(2, 2), bias=False)\n",
              "  (bn1): BatchNorm2d(32, eps=1e-05, momentum=0.1, affine=True, track_running_stats=True)\n",
              "  (relu): ReLU(inplace=True)\n",
              "  (conv2): Conv2d(32, 64, kernel_size=(3, 3), stride=(1, 1), bias=False)\n",
              "  (bn2): BatchNorm2d(64, eps=1e-05, momentum=0.1, affine=True, track_running_stats=True)\n",
              "  (block1): Block(\n",
              "    (skip): Conv2d(64, 128, kernel_size=(1, 1), stride=(2, 2), bias=False)\n",
              "    (skipbn): BatchNorm2d(128, eps=1e-05, momentum=0.1, affine=True, track_running_stats=True)\n",
              "    (relu): ReLU(inplace=True)\n",
              "    (rep): Sequential(\n",
              "      (0): SeparableConv2d(\n",
              "        (conv1): Conv2d(64, 64, kernel_size=(3, 3), stride=(1, 1), padding=(1, 1), groups=64, bias=False)\n",
              "        (pointwise): Conv2d(64, 128, kernel_size=(1, 1), stride=(1, 1), bias=False)\n",
              "      )\n",
              "      (1): BatchNorm2d(128, eps=1e-05, momentum=0.1, affine=True, track_running_stats=True)\n",
              "      (2): ReLU(inplace=True)\n",
              "      (3): SeparableConv2d(\n",
              "        (conv1): Conv2d(128, 128, kernel_size=(3, 3), stride=(1, 1), padding=(1, 1), groups=128, bias=False)\n",
              "        (pointwise): Conv2d(128, 128, kernel_size=(1, 1), stride=(1, 1), bias=False)\n",
              "      )\n",
              "      (4): BatchNorm2d(128, eps=1e-05, momentum=0.1, affine=True, track_running_stats=True)\n",
              "      (5): MaxPool2d(kernel_size=3, stride=2, padding=1, dilation=1, ceil_mode=False)\n",
              "    )\n",
              "  )\n",
              "  (block2): Block(\n",
              "    (skip): Conv2d(128, 256, kernel_size=(1, 1), stride=(2, 2), bias=False)\n",
              "    (skipbn): BatchNorm2d(256, eps=1e-05, momentum=0.1, affine=True, track_running_stats=True)\n",
              "    (relu): ReLU(inplace=True)\n",
              "    (rep): Sequential(\n",
              "      (0): ReLU()\n",
              "      (1): SeparableConv2d(\n",
              "        (conv1): Conv2d(128, 128, kernel_size=(3, 3), stride=(1, 1), padding=(1, 1), groups=128, bias=False)\n",
              "        (pointwise): Conv2d(128, 256, kernel_size=(1, 1), stride=(1, 1), bias=False)\n",
              "      )\n",
              "      (2): BatchNorm2d(256, eps=1e-05, momentum=0.1, affine=True, track_running_stats=True)\n",
              "      (3): ReLU(inplace=True)\n",
              "      (4): SeparableConv2d(\n",
              "        (conv1): Conv2d(256, 256, kernel_size=(3, 3), stride=(1, 1), padding=(1, 1), groups=256, bias=False)\n",
              "        (pointwise): Conv2d(256, 256, kernel_size=(1, 1), stride=(1, 1), bias=False)\n",
              "      )\n",
              "      (5): BatchNorm2d(256, eps=1e-05, momentum=0.1, affine=True, track_running_stats=True)\n",
              "      (6): MaxPool2d(kernel_size=3, stride=2, padding=1, dilation=1, ceil_mode=False)\n",
              "    )\n",
              "  )\n",
              "  (block3): Block(\n",
              "    (skip): Conv2d(256, 728, kernel_size=(1, 1), stride=(2, 2), bias=False)\n",
              "    (skipbn): BatchNorm2d(728, eps=1e-05, momentum=0.1, affine=True, track_running_stats=True)\n",
              "    (relu): ReLU(inplace=True)\n",
              "    (rep): Sequential(\n",
              "      (0): ReLU()\n",
              "      (1): SeparableConv2d(\n",
              "        (conv1): Conv2d(256, 256, kernel_size=(3, 3), stride=(1, 1), padding=(1, 1), groups=256, bias=False)\n",
              "        (pointwise): Conv2d(256, 728, kernel_size=(1, 1), stride=(1, 1), bias=False)\n",
              "      )\n",
              "      (2): BatchNorm2d(728, eps=1e-05, momentum=0.1, affine=True, track_running_stats=True)\n",
              "      (3): ReLU(inplace=True)\n",
              "      (4): SeparableConv2d(\n",
              "        (conv1): Conv2d(728, 728, kernel_size=(3, 3), stride=(1, 1), padding=(1, 1), groups=728, bias=False)\n",
              "        (pointwise): Conv2d(728, 728, kernel_size=(1, 1), stride=(1, 1), bias=False)\n",
              "      )\n",
              "      (5): BatchNorm2d(728, eps=1e-05, momentum=0.1, affine=True, track_running_stats=True)\n",
              "      (6): MaxPool2d(kernel_size=3, stride=2, padding=1, dilation=1, ceil_mode=False)\n",
              "    )\n",
              "  )\n",
              "  (block4): Block(\n",
              "    (relu): ReLU(inplace=True)\n",
              "    (rep): Sequential(\n",
              "      (0): ReLU()\n",
              "      (1): SeparableConv2d(\n",
              "        (conv1): Conv2d(728, 728, kernel_size=(3, 3), stride=(1, 1), padding=(1, 1), groups=728, bias=False)\n",
              "        (pointwise): Conv2d(728, 728, kernel_size=(1, 1), stride=(1, 1), bias=False)\n",
              "      )\n",
              "      (2): BatchNorm2d(728, eps=1e-05, momentum=0.1, affine=True, track_running_stats=True)\n",
              "      (3): ReLU(inplace=True)\n",
              "      (4): SeparableConv2d(\n",
              "        (conv1): Conv2d(728, 728, kernel_size=(3, 3), stride=(1, 1), padding=(1, 1), groups=728, bias=False)\n",
              "        (pointwise): Conv2d(728, 728, kernel_size=(1, 1), stride=(1, 1), bias=False)\n",
              "      )\n",
              "      (5): BatchNorm2d(728, eps=1e-05, momentum=0.1, affine=True, track_running_stats=True)\n",
              "      (6): ReLU(inplace=True)\n",
              "      (7): SeparableConv2d(\n",
              "        (conv1): Conv2d(728, 728, kernel_size=(3, 3), stride=(1, 1), padding=(1, 1), groups=728, bias=False)\n",
              "        (pointwise): Conv2d(728, 728, kernel_size=(1, 1), stride=(1, 1), bias=False)\n",
              "      )\n",
              "      (8): BatchNorm2d(728, eps=1e-05, momentum=0.1, affine=True, track_running_stats=True)\n",
              "    )\n",
              "  )\n",
              "  (block5): Block(\n",
              "    (relu): ReLU(inplace=True)\n",
              "    (rep): Sequential(\n",
              "      (0): ReLU()\n",
              "      (1): SeparableConv2d(\n",
              "        (conv1): Conv2d(728, 728, kernel_size=(3, 3), stride=(1, 1), padding=(1, 1), groups=728, bias=False)\n",
              "        (pointwise): Conv2d(728, 728, kernel_size=(1, 1), stride=(1, 1), bias=False)\n",
              "      )\n",
              "      (2): BatchNorm2d(728, eps=1e-05, momentum=0.1, affine=True, track_running_stats=True)\n",
              "      (3): ReLU(inplace=True)\n",
              "      (4): SeparableConv2d(\n",
              "        (conv1): Conv2d(728, 728, kernel_size=(3, 3), stride=(1, 1), padding=(1, 1), groups=728, bias=False)\n",
              "        (pointwise): Conv2d(728, 728, kernel_size=(1, 1), stride=(1, 1), bias=False)\n",
              "      )\n",
              "      (5): BatchNorm2d(728, eps=1e-05, momentum=0.1, affine=True, track_running_stats=True)\n",
              "      (6): ReLU(inplace=True)\n",
              "      (7): SeparableConv2d(\n",
              "        (conv1): Conv2d(728, 728, kernel_size=(3, 3), stride=(1, 1), padding=(1, 1), groups=728, bias=False)\n",
              "        (pointwise): Conv2d(728, 728, kernel_size=(1, 1), stride=(1, 1), bias=False)\n",
              "      )\n",
              "      (8): BatchNorm2d(728, eps=1e-05, momentum=0.1, affine=True, track_running_stats=True)\n",
              "    )\n",
              "  )\n",
              "  (block6): Block(\n",
              "    (relu): ReLU(inplace=True)\n",
              "    (rep): Sequential(\n",
              "      (0): ReLU()\n",
              "      (1): SeparableConv2d(\n",
              "        (conv1): Conv2d(728, 728, kernel_size=(3, 3), stride=(1, 1), padding=(1, 1), groups=728, bias=False)\n",
              "        (pointwise): Conv2d(728, 728, kernel_size=(1, 1), stride=(1, 1), bias=False)\n",
              "      )\n",
              "      (2): BatchNorm2d(728, eps=1e-05, momentum=0.1, affine=True, track_running_stats=True)\n",
              "      (3): ReLU(inplace=True)\n",
              "      (4): SeparableConv2d(\n",
              "        (conv1): Conv2d(728, 728, kernel_size=(3, 3), stride=(1, 1), padding=(1, 1), groups=728, bias=False)\n",
              "        (pointwise): Conv2d(728, 728, kernel_size=(1, 1), stride=(1, 1), bias=False)\n",
              "      )\n",
              "      (5): BatchNorm2d(728, eps=1e-05, momentum=0.1, affine=True, track_running_stats=True)\n",
              "      (6): ReLU(inplace=True)\n",
              "      (7): SeparableConv2d(\n",
              "        (conv1): Conv2d(728, 728, kernel_size=(3, 3), stride=(1, 1), padding=(1, 1), groups=728, bias=False)\n",
              "        (pointwise): Conv2d(728, 728, kernel_size=(1, 1), stride=(1, 1), bias=False)\n",
              "      )\n",
              "      (8): BatchNorm2d(728, eps=1e-05, momentum=0.1, affine=True, track_running_stats=True)\n",
              "    )\n",
              "  )\n",
              "  (block7): Block(\n",
              "    (relu): ReLU(inplace=True)\n",
              "    (rep): Sequential(\n",
              "      (0): ReLU()\n",
              "      (1): SeparableConv2d(\n",
              "        (conv1): Conv2d(728, 728, kernel_size=(3, 3), stride=(1, 1), padding=(1, 1), groups=728, bias=False)\n",
              "        (pointwise): Conv2d(728, 728, kernel_size=(1, 1), stride=(1, 1), bias=False)\n",
              "      )\n",
              "      (2): BatchNorm2d(728, eps=1e-05, momentum=0.1, affine=True, track_running_stats=True)\n",
              "      (3): ReLU(inplace=True)\n",
              "      (4): SeparableConv2d(\n",
              "        (conv1): Conv2d(728, 728, kernel_size=(3, 3), stride=(1, 1), padding=(1, 1), groups=728, bias=False)\n",
              "        (pointwise): Conv2d(728, 728, kernel_size=(1, 1), stride=(1, 1), bias=False)\n",
              "      )\n",
              "      (5): BatchNorm2d(728, eps=1e-05, momentum=0.1, affine=True, track_running_stats=True)\n",
              "      (6): ReLU(inplace=True)\n",
              "      (7): SeparableConv2d(\n",
              "        (conv1): Conv2d(728, 728, kernel_size=(3, 3), stride=(1, 1), padding=(1, 1), groups=728, bias=False)\n",
              "        (pointwise): Conv2d(728, 728, kernel_size=(1, 1), stride=(1, 1), bias=False)\n",
              "      )\n",
              "      (8): BatchNorm2d(728, eps=1e-05, momentum=0.1, affine=True, track_running_stats=True)\n",
              "    )\n",
              "  )\n",
              "  (block8): Block(\n",
              "    (relu): ReLU(inplace=True)\n",
              "    (rep): Sequential(\n",
              "      (0): ReLU()\n",
              "      (1): SeparableConv2d(\n",
              "        (conv1): Conv2d(728, 728, kernel_size=(3, 3), stride=(1, 1), padding=(1, 1), groups=728, bias=False)\n",
              "        (pointwise): Conv2d(728, 728, kernel_size=(1, 1), stride=(1, 1), bias=False)\n",
              "      )\n",
              "      (2): BatchNorm2d(728, eps=1e-05, momentum=0.1, affine=True, track_running_stats=True)\n",
              "      (3): ReLU(inplace=True)\n",
              "      (4): SeparableConv2d(\n",
              "        (conv1): Conv2d(728, 728, kernel_size=(3, 3), stride=(1, 1), padding=(1, 1), groups=728, bias=False)\n",
              "        (pointwise): Conv2d(728, 728, kernel_size=(1, 1), stride=(1, 1), bias=False)\n",
              "      )\n",
              "      (5): BatchNorm2d(728, eps=1e-05, momentum=0.1, affine=True, track_running_stats=True)\n",
              "      (6): ReLU(inplace=True)\n",
              "      (7): SeparableConv2d(\n",
              "        (conv1): Conv2d(728, 728, kernel_size=(3, 3), stride=(1, 1), padding=(1, 1), groups=728, bias=False)\n",
              "        (pointwise): Conv2d(728, 728, kernel_size=(1, 1), stride=(1, 1), bias=False)\n",
              "      )\n",
              "      (8): BatchNorm2d(728, eps=1e-05, momentum=0.1, affine=True, track_running_stats=True)\n",
              "    )\n",
              "  )\n",
              "  (block9): Block(\n",
              "    (relu): ReLU(inplace=True)\n",
              "    (rep): Sequential(\n",
              "      (0): ReLU()\n",
              "      (1): SeparableConv2d(\n",
              "        (conv1): Conv2d(728, 728, kernel_size=(3, 3), stride=(1, 1), padding=(1, 1), groups=728, bias=False)\n",
              "        (pointwise): Conv2d(728, 728, kernel_size=(1, 1), stride=(1, 1), bias=False)\n",
              "      )\n",
              "      (2): BatchNorm2d(728, eps=1e-05, momentum=0.1, affine=True, track_running_stats=True)\n",
              "      (3): ReLU(inplace=True)\n",
              "      (4): SeparableConv2d(\n",
              "        (conv1): Conv2d(728, 728, kernel_size=(3, 3), stride=(1, 1), padding=(1, 1), groups=728, bias=False)\n",
              "        (pointwise): Conv2d(728, 728, kernel_size=(1, 1), stride=(1, 1), bias=False)\n",
              "      )\n",
              "      (5): BatchNorm2d(728, eps=1e-05, momentum=0.1, affine=True, track_running_stats=True)\n",
              "      (6): ReLU(inplace=True)\n",
              "      (7): SeparableConv2d(\n",
              "        (conv1): Conv2d(728, 728, kernel_size=(3, 3), stride=(1, 1), padding=(1, 1), groups=728, bias=False)\n",
              "        (pointwise): Conv2d(728, 728, kernel_size=(1, 1), stride=(1, 1), bias=False)\n",
              "      )\n",
              "      (8): BatchNorm2d(728, eps=1e-05, momentum=0.1, affine=True, track_running_stats=True)\n",
              "    )\n",
              "  )\n",
              "  (block10): Block(\n",
              "    (relu): ReLU(inplace=True)\n",
              "    (rep): Sequential(\n",
              "      (0): ReLU()\n",
              "      (1): SeparableConv2d(\n",
              "        (conv1): Conv2d(728, 728, kernel_size=(3, 3), stride=(1, 1), padding=(1, 1), groups=728, bias=False)\n",
              "        (pointwise): Conv2d(728, 728, kernel_size=(1, 1), stride=(1, 1), bias=False)\n",
              "      )\n",
              "      (2): BatchNorm2d(728, eps=1e-05, momentum=0.1, affine=True, track_running_stats=True)\n",
              "      (3): ReLU(inplace=True)\n",
              "      (4): SeparableConv2d(\n",
              "        (conv1): Conv2d(728, 728, kernel_size=(3, 3), stride=(1, 1), padding=(1, 1), groups=728, bias=False)\n",
              "        (pointwise): Conv2d(728, 728, kernel_size=(1, 1), stride=(1, 1), bias=False)\n",
              "      )\n",
              "      (5): BatchNorm2d(728, eps=1e-05, momentum=0.1, affine=True, track_running_stats=True)\n",
              "      (6): ReLU(inplace=True)\n",
              "      (7): SeparableConv2d(\n",
              "        (conv1): Conv2d(728, 728, kernel_size=(3, 3), stride=(1, 1), padding=(1, 1), groups=728, bias=False)\n",
              "        (pointwise): Conv2d(728, 728, kernel_size=(1, 1), stride=(1, 1), bias=False)\n",
              "      )\n",
              "      (8): BatchNorm2d(728, eps=1e-05, momentum=0.1, affine=True, track_running_stats=True)\n",
              "    )\n",
              "  )\n",
              "  (block11): Block(\n",
              "    (relu): ReLU(inplace=True)\n",
              "    (rep): Sequential(\n",
              "      (0): ReLU()\n",
              "      (1): SeparableConv2d(\n",
              "        (conv1): Conv2d(728, 728, kernel_size=(3, 3), stride=(1, 1), padding=(1, 1), groups=728, bias=False)\n",
              "        (pointwise): Conv2d(728, 728, kernel_size=(1, 1), stride=(1, 1), bias=False)\n",
              "      )\n",
              "      (2): BatchNorm2d(728, eps=1e-05, momentum=0.1, affine=True, track_running_stats=True)\n",
              "      (3): ReLU(inplace=True)\n",
              "      (4): SeparableConv2d(\n",
              "        (conv1): Conv2d(728, 728, kernel_size=(3, 3), stride=(1, 1), padding=(1, 1), groups=728, bias=False)\n",
              "        (pointwise): Conv2d(728, 728, kernel_size=(1, 1), stride=(1, 1), bias=False)\n",
              "      )\n",
              "      (5): BatchNorm2d(728, eps=1e-05, momentum=0.1, affine=True, track_running_stats=True)\n",
              "      (6): ReLU(inplace=True)\n",
              "      (7): SeparableConv2d(\n",
              "        (conv1): Conv2d(728, 728, kernel_size=(3, 3), stride=(1, 1), padding=(1, 1), groups=728, bias=False)\n",
              "        (pointwise): Conv2d(728, 728, kernel_size=(1, 1), stride=(1, 1), bias=False)\n",
              "      )\n",
              "      (8): BatchNorm2d(728, eps=1e-05, momentum=0.1, affine=True, track_running_stats=True)\n",
              "    )\n",
              "  )\n",
              "  (block12): Block(\n",
              "    (skip): Conv2d(728, 1024, kernel_size=(1, 1), stride=(2, 2), bias=False)\n",
              "    (skipbn): BatchNorm2d(1024, eps=1e-05, momentum=0.1, affine=True, track_running_stats=True)\n",
              "    (relu): ReLU(inplace=True)\n",
              "    (rep): Sequential(\n",
              "      (0): ReLU()\n",
              "      (1): SeparableConv2d(\n",
              "        (conv1): Conv2d(728, 728, kernel_size=(3, 3), stride=(1, 1), padding=(1, 1), groups=728, bias=False)\n",
              "        (pointwise): Conv2d(728, 728, kernel_size=(1, 1), stride=(1, 1), bias=False)\n",
              "      )\n",
              "      (2): BatchNorm2d(728, eps=1e-05, momentum=0.1, affine=True, track_running_stats=True)\n",
              "      (3): ReLU(inplace=True)\n",
              "      (4): SeparableConv2d(\n",
              "        (conv1): Conv2d(728, 728, kernel_size=(3, 3), stride=(1, 1), padding=(1, 1), groups=728, bias=False)\n",
              "        (pointwise): Conv2d(728, 1024, kernel_size=(1, 1), stride=(1, 1), bias=False)\n",
              "      )\n",
              "      (5): BatchNorm2d(1024, eps=1e-05, momentum=0.1, affine=True, track_running_stats=True)\n",
              "      (6): MaxPool2d(kernel_size=3, stride=2, padding=1, dilation=1, ceil_mode=False)\n",
              "    )\n",
              "  )\n",
              "  (conv3): SeparableConv2d(\n",
              "    (conv1): Conv2d(1024, 1024, kernel_size=(3, 3), stride=(1, 1), padding=(1, 1), groups=1024, bias=False)\n",
              "    (pointwise): Conv2d(1024, 1536, kernel_size=(1, 1), stride=(1, 1), bias=False)\n",
              "  )\n",
              "  (bn3): BatchNorm2d(1536, eps=1e-05, momentum=0.1, affine=True, track_running_stats=True)\n",
              "  (conv4): SeparableConv2d(\n",
              "    (conv1): Conv2d(1536, 1536, kernel_size=(3, 3), stride=(1, 1), padding=(1, 1), groups=1536, bias=False)\n",
              "    (pointwise): Conv2d(1536, 2048, kernel_size=(1, 1), stride=(1, 1), bias=False)\n",
              "  )\n",
              "  (bn4): BatchNorm2d(2048, eps=1e-05, momentum=0.1, affine=True, track_running_stats=True)\n",
              "  (last_linear): Linear(in_features=2048, out_features=1000, bias=True)\n",
              ")"
            ]
          },
          "metadata": {
            "tags": []
          },
          "execution_count": 16
        }
      ]
    },
    {
      "cell_type": "code",
      "metadata": {
        "id": "ciB2NAEr_Ztv"
      },
      "source": [
        "# model_conv = torchvision.models.resnet18(pretrained=True)\n",
        "for param in model_conv.parameters():\n",
        "    param.requires_grad = False\n",
        "\n",
        "# Parameters of newly constructed modules have requires_grad=True by default\n",
        "num_ftrs = model_conv.last_linear.in_features\n",
        "model_conv.last_linear = nn.Linear(num_ftrs, 2)\n",
        "# model_conv.last_linear = nn.Linear(int(num_ftrs/4), 2)\n",
        "\n",
        "model_conv = model_conv.to(device)\n",
        "\n",
        "criterion = nn.CrossEntropyLoss()\n",
        "\n",
        "optimizer_conv = optim.Adam(model_conv.last_linear.parameters(), lr=lr)\n",
        "\n",
        "# Decay LR by a factor of 0.1 every 7 epochs\n",
        "# exp_lr_scheduler = lr_scheduler.StepLR(optimizer_conv, step_size=7, gamma=0.1)"
      ],
      "execution_count": 17,
      "outputs": []
    },
    {
      "cell_type": "code",
      "metadata": {
        "colab": {
          "base_uri": "https://localhost:8080/"
        },
        "id": "dBMtIpjw_ZrD",
        "outputId": "d73ab9aa-ae80-4b7f-d80f-28a531378d1c"
      },
      "source": [
        "model_conv = train_model(model_conv, criterion, optimizer_conv, num_epochs=n_epochs)"
      ],
      "execution_count": 18,
      "outputs": [
        {
          "output_type": "stream",
          "text": [
            "Epoch 0/39\n",
            "----------\n",
            "train Loss: 0.5714 Acc: 0.7094\n",
            "val Loss: 0.5000 Acc: 0.7539\n",
            "\n",
            "Epoch 1/39\n",
            "----------\n",
            "train Loss: 0.5325 Acc: 0.7405\n",
            "val Loss: 0.4791 Acc: 0.7724\n",
            "\n",
            "Epoch 2/39\n",
            "----------\n",
            "train Loss: 0.5277 Acc: 0.7468\n",
            "val Loss: 0.4748 Acc: 0.7799\n",
            "\n",
            "Epoch 3/39\n",
            "----------\n",
            "train Loss: 0.5127 Acc: 0.7540\n",
            "val Loss: 0.4984 Acc: 0.7617\n",
            "\n",
            "Epoch 4/39\n",
            "----------\n",
            "train Loss: 0.5112 Acc: 0.7611\n",
            "val Loss: 0.4934 Acc: 0.7604\n",
            "\n",
            "Epoch 5/39\n",
            "----------\n",
            "train Loss: 0.4930 Acc: 0.7607\n",
            "val Loss: 0.6068 Acc: 0.6899\n",
            "\n",
            "Epoch 6/39\n",
            "----------\n",
            "train Loss: 0.5116 Acc: 0.7551\n",
            "val Loss: 0.5046 Acc: 0.7564\n",
            "\n",
            "Epoch 7/39\n",
            "----------\n",
            "train Loss: 0.4923 Acc: 0.7663\n",
            "val Loss: 0.4713 Acc: 0.7769\n",
            "\n",
            "Epoch 8/39\n",
            "----------\n",
            "train Loss: 0.5013 Acc: 0.7575\n",
            "val Loss: 0.4529 Acc: 0.7859\n",
            "\n",
            "Epoch 9/39\n",
            "----------\n",
            "train Loss: 0.5053 Acc: 0.7628\n",
            "val Loss: 0.5080 Acc: 0.7599\n",
            "\n",
            "Epoch 10/39\n",
            "----------\n",
            "train Loss: 0.4998 Acc: 0.7606\n",
            "val Loss: 0.4772 Acc: 0.7732\n",
            "\n",
            "Epoch 11/39\n",
            "----------\n",
            "train Loss: 0.4909 Acc: 0.7623\n",
            "val Loss: 0.4709 Acc: 0.7802\n",
            "\n",
            "Epoch 12/39\n",
            "----------\n",
            "train Loss: 0.4964 Acc: 0.7611\n",
            "val Loss: 0.4807 Acc: 0.7657\n",
            "\n",
            "Epoch 13/39\n",
            "----------\n",
            "train Loss: 0.4819 Acc: 0.7712\n",
            "val Loss: 0.4650 Acc: 0.7839\n",
            "\n",
            "Epoch 14/39\n",
            "----------\n",
            "train Loss: 0.4821 Acc: 0.7687\n",
            "val Loss: 0.4822 Acc: 0.7712\n",
            "\n",
            "Epoch 15/39\n",
            "----------\n",
            "train Loss: 0.4927 Acc: 0.7677\n",
            "val Loss: 0.4893 Acc: 0.7619\n",
            "\n",
            "Epoch 16/39\n",
            "----------\n",
            "train Loss: 0.4853 Acc: 0.7777\n",
            "val Loss: 0.4922 Acc: 0.7632\n",
            "\n",
            "Epoch 17/39\n",
            "----------\n",
            "train Loss: 0.4886 Acc: 0.7707\n",
            "val Loss: 0.4946 Acc: 0.7722\n",
            "\n",
            "Epoch 18/39\n",
            "----------\n",
            "train Loss: 0.4871 Acc: 0.7743\n",
            "val Loss: 0.4640 Acc: 0.7802\n",
            "\n",
            "Epoch 19/39\n",
            "----------\n",
            "train Loss: 0.4856 Acc: 0.7737\n",
            "val Loss: 0.4752 Acc: 0.7749\n",
            "\n",
            "Epoch 20/39\n",
            "----------\n",
            "train Loss: 0.4710 Acc: 0.7823\n",
            "val Loss: 0.4658 Acc: 0.7829\n",
            "\n",
            "Epoch 21/39\n",
            "----------\n",
            "train Loss: 0.4798 Acc: 0.7760\n",
            "val Loss: 0.4726 Acc: 0.7792\n",
            "\n",
            "Epoch 22/39\n",
            "----------\n",
            "train Loss: 0.4852 Acc: 0.7690\n",
            "val Loss: 0.4708 Acc: 0.7779\n",
            "\n",
            "Epoch 23/39\n",
            "----------\n",
            "train Loss: 0.4751 Acc: 0.7803\n",
            "val Loss: 0.4646 Acc: 0.7844\n",
            "\n",
            "Epoch 24/39\n",
            "----------\n",
            "train Loss: 0.4831 Acc: 0.7713\n",
            "val Loss: 0.4800 Acc: 0.7777\n",
            "\n",
            "Epoch 25/39\n",
            "----------\n",
            "train Loss: 0.4910 Acc: 0.7661\n",
            "val Loss: 0.4796 Acc: 0.7784\n",
            "\n",
            "Epoch 26/39\n",
            "----------\n",
            "train Loss: 0.4902 Acc: 0.7772\n",
            "val Loss: 0.4681 Acc: 0.7842\n",
            "\n",
            "Epoch 27/39\n",
            "----------\n",
            "train Loss: 0.4897 Acc: 0.7735\n",
            "val Loss: 0.4852 Acc: 0.7722\n",
            "\n",
            "Epoch 28/39\n",
            "----------\n",
            "train Loss: 0.4605 Acc: 0.7903\n",
            "val Loss: 0.4942 Acc: 0.7624\n",
            "\n",
            "Epoch 29/39\n",
            "----------\n",
            "train Loss: 0.4726 Acc: 0.7832\n",
            "val Loss: 0.4793 Acc: 0.7709\n",
            "\n",
            "Epoch 30/39\n",
            "----------\n",
            "train Loss: 0.4812 Acc: 0.7753\n",
            "val Loss: 0.5345 Acc: 0.7357\n",
            "\n",
            "Epoch 31/39\n",
            "----------\n",
            "train Loss: 0.4788 Acc: 0.7755\n",
            "val Loss: 0.4857 Acc: 0.7724\n",
            "\n",
            "Epoch 32/39\n",
            "----------\n",
            "train Loss: 0.4827 Acc: 0.7788\n",
            "val Loss: 0.4759 Acc: 0.7734\n",
            "\n",
            "Epoch 33/39\n",
            "----------\n",
            "train Loss: 0.4714 Acc: 0.7796\n",
            "val Loss: 0.4753 Acc: 0.7704\n",
            "\n",
            "Epoch 34/39\n",
            "----------\n",
            "train Loss: 0.4682 Acc: 0.7813\n",
            "val Loss: 0.5074 Acc: 0.7592\n",
            "\n",
            "Epoch 35/39\n",
            "----------\n",
            "train Loss: 0.4844 Acc: 0.7775\n",
            "val Loss: 0.5504 Acc: 0.7584\n",
            "\n",
            "Epoch 36/39\n",
            "----------\n",
            "train Loss: 0.4728 Acc: 0.7808\n",
            "val Loss: 0.4899 Acc: 0.7834\n",
            "\n",
            "Epoch 37/39\n",
            "----------\n",
            "train Loss: 0.4817 Acc: 0.7765\n",
            "val Loss: 0.4746 Acc: 0.7784\n",
            "\n",
            "Epoch 38/39\n",
            "----------\n",
            "train Loss: 0.4797 Acc: 0.7776\n",
            "val Loss: 0.4678 Acc: 0.7822\n",
            "\n",
            "Epoch 39/39\n",
            "----------\n",
            "train Loss: 0.4806 Acc: 0.7728\n",
            "val Loss: 0.4745 Acc: 0.7782\n",
            "\n",
            "Training complete in 67m 13s\n",
            "Best val Acc: 0.785946\n"
          ],
          "name": "stdout"
        }
      ]
    },
    {
      "cell_type": "code",
      "metadata": {
        "id": "_CFzx4p_CHJW"
      },
      "source": [
        "torch.save(model_conv.state_dict(), \"xception_40epochs_adam_larger_lr.pth\")"
      ],
      "execution_count": 19,
      "outputs": []
    },
    {
      "cell_type": "code",
      "metadata": {
        "colab": {
          "base_uri": "https://localhost:8080/",
          "height": 581
        },
        "id": "cA09Y_Kj_Zoe",
        "outputId": "f78dac93-0930-48e5-f532-4d11ba00596b"
      },
      "source": [
        "visualize_model(model_conv)\n",
        "\n",
        "plt.ioff()\n",
        "plt.show()"
      ],
      "execution_count": 20,
      "outputs": [
        {
          "output_type": "display_data",
          "data": {
            "image/png": "[encoded data removed]",
            "text/plain": [
              "<Figure size 432x288 with 1 Axes>"
            ]
          },
          "metadata": {
            "tags": [],
            "needs_background": "light"
          }
        },
        {
          "output_type": "display_data",
          "data": {
            "image/png": "[encoded data removed]",
            "text/plain": [
              "<Figure size 432x288 with 1 Axes>"
            ]
          },
          "metadata": {
            "tags": [],
            "needs_background": "light"
          }
        },
        {
          "output_type": "display_data",
          "data": {
            "image/png": "[encoded data removed]",
            "text/plain": [
              "<Figure size 432x288 with 1 Axes>"
            ]
          },
          "metadata": {
            "tags": [],
            "needs_background": "light"
          }
        },
        {
          "output_type": "display_data",
          "data": {
            "image/png": "[encoded data removed]",
            "text/plain": [
              "<Figure size 432x288 with 1 Axes>"
            ]
          },
          "metadata": {
            "tags": [],
            "needs_background": "light"
          }
        },
        {
          "output_type": "display_data",
          "data": {
            "image/png": "[encoded data removed]",
            "text/plain": [
              "<Figure size 432x288 with 1 Axes>"
            ]
          },
          "metadata": {
            "tags": [],
            "needs_background": "light"
          }
        },
        {
          "output_type": "display_data",
          "data": {
            "image/png": "[encoded data removed]",
            "text/plain": [
              "<Figure size 432x288 with 1 Axes>"
            ]
          },
          "metadata": {
            "tags": [],
            "needs_background": "light"
          }
        }
      ]
    },
    {
      "cell_type": "code",
      "metadata": {
        "colab": {
          "base_uri": "https://localhost:8080/"
        },
        "id": "finQha2n_ZgG",
        "outputId": "c243794a-7452-4be6-9e92-0a3367efeda9"
      },
      "source": [
        "# Testing loop\n",
        "test_loader = dataloaders[\"test\"]\n",
        "correct, total = 0, 0\n",
        "\n",
        "all_preds = []\n",
        "all_targets = []\n",
        "outs = []\n",
        "\n",
        "model_conv.eval()  # Set model to evaluation mode.\n",
        "with torch.no_grad():\n",
        "  \n",
        "  # Iterate over the test data and generate predictions\n",
        "  for i, data in enumerate(test_loader, 0):\n",
        "    \n",
        "    # Get inputs\n",
        "    inputs, targets = data\n",
        "\n",
        "    inputs = inputs.to(device)\n",
        "    targets = targets.to(device)\n",
        "    \n",
        "    # Generate outputs\n",
        "    outputs = model_conv(inputs)\n",
        "    \n",
        "    # Set total and correct\n",
        "    _, predicted = torch.max(outputs.data, 1)\n",
        "    total += targets.size(0)\n",
        "    correct += (predicted == targets).sum().item()\n",
        "\n",
        "    all_preds.append(predicted)\n",
        "    all_targets.append(targets)\n",
        "    outs.append(outputs.data)\n",
        "    \n",
        "  # Print accuracy\n",
        "  print(f\"Accuracy: {100 * correct / total}\")"
      ],
      "execution_count": 75,
      "outputs": [
        {
          "output_type": "stream",
          "text": [
            "Accuracy: 77.43871935967984\n"
          ],
          "name": "stdout"
        }
      ]
    },
    {
      "cell_type": "code",
      "metadata": {
        "colab": {
          "base_uri": "https://localhost:8080/"
        },
        "id": "NZr9ir8aEVEX",
        "outputId": "40f9bfff-1c9b-4303-e16f-a8ba1b116204"
      },
      "source": [
        "print(f\"Accuracy: {correct/total}\")"
      ],
      "execution_count": 76,
      "outputs": [
        {
          "output_type": "stream",
          "text": [
            "Accuracy: 0.7743871935967984\n"
          ],
          "name": "stdout"
        }
      ]
    },
    {
      "cell_type": "code",
      "metadata": {
        "id": "UFJgKnXNG_IC"
      },
      "source": [
        "for pred in all_preds:\n",
        "  pred = pred.cpu().numpy()"
      ],
      "execution_count": 77,
      "outputs": []
    },
    {
      "cell_type": "code",
      "metadata": {
        "id": "__fIdxSuIwsd"
      },
      "source": [
        "preds = np.hstack([pred.cpu().numpy() for pred in all_preds])\n",
        "targets_ = np.hstack([target_.cpu().numpy() for target_ in all_targets])"
      ],
      "execution_count": 78,
      "outputs": []
    },
    {
      "cell_type": "code",
      "metadata": {
        "colab": {
          "base_uri": "https://localhost:8080/"
        },
        "id": "fT2btSKpJUeg",
        "outputId": "945da5b6-df86-4865-d9f5-91e1af945145"
      },
      "source": [
        "!pip install plot-metric"
      ],
      "execution_count": 79,
      "outputs": [
        {
          "output_type": "stream",
          "text": [
            "Requirement already satisfied: plot-metric in /usr/local/lib/python3.7/dist-packages (0.0.6)\n",
            "Requirement already satisfied: matplotlib>=3.0.2 in /usr/local/lib/python3.7/dist-packages (from plot-metric) (3.2.2)\n",
            "Requirement already satisfied: colorlover>=0.3.0 in /usr/local/lib/python3.7/dist-packages (from plot-metric) (0.3.0)\n",
            "Requirement already satisfied: seaborn>=0.9.0 in /usr/local/lib/python3.7/dist-packages (from plot-metric) (0.11.1)\n",
            "Requirement already satisfied: scipy>=1.1.0 in /usr/local/lib/python3.7/dist-packages (from plot-metric) (1.4.1)\n",
            "Requirement already satisfied: pandas>=0.23.4 in /usr/local/lib/python3.7/dist-packages (from plot-metric) (1.1.5)\n",
            "Requirement already satisfied: scikit-learn>=0.21.2 in /usr/local/lib/python3.7/dist-packages (from plot-metric) (0.22.2.post1)\n",
            "Requirement already satisfied: numpy>=1.15.4 in /usr/local/lib/python3.7/dist-packages (from plot-metric) (1.19.5)\n",
            "Requirement already satisfied: python-dateutil>=2.1 in /usr/local/lib/python3.7/dist-packages (from matplotlib>=3.0.2->plot-metric) (2.8.1)\n",
            "Requirement already satisfied: pyparsing!=2.0.4,!=2.1.2,!=2.1.6,>=2.0.1 in /usr/local/lib/python3.7/dist-packages (from matplotlib>=3.0.2->plot-metric) (2.4.7)\n",
            "Requirement already satisfied: kiwisolver>=1.0.1 in /usr/local/lib/python3.7/dist-packages (from matplotlib>=3.0.2->plot-metric) (1.3.1)\n",
            "Requirement already satisfied: cycler>=0.10 in /usr/local/lib/python3.7/dist-packages (from matplotlib>=3.0.2->plot-metric) (0.10.0)\n",
            "Requirement already satisfied: pytz>=2017.2 in /usr/local/lib/python3.7/dist-packages (from pandas>=0.23.4->plot-metric) (2018.9)\n",
            "Requirement already satisfied: joblib>=0.11 in /usr/local/lib/python3.7/dist-packages (from scikit-learn>=0.21.2->plot-metric) (1.0.1)\n",
            "Requirement already satisfied: six>=1.5 in /usr/local/lib/python3.7/dist-packages (from python-dateutil>=2.1->matplotlib>=3.0.2->plot-metric) (1.15.0)\n"
          ],
          "name": "stdout"
        }
      ]
    },
    {
      "cell_type": "code",
      "metadata": {
        "id": "NwUdvDR6Kvph"
      },
      "source": [
        "from plot_metric.functions import BinaryClassification"
      ],
      "execution_count": 80,
      "outputs": []
    },
    {
      "cell_type": "code",
      "metadata": {
        "colab": {
          "base_uri": "https://localhost:8080/",
          "height": 641
        },
        "id": "0JIoMj7oKefW",
        "outputId": "83c5c27d-2dff-4e00-d5bc-85bc0b1b6928"
      },
      "source": [
        "# Visualisation with plot_metric\n",
        "bc = BinaryClassification(targets_, preds, labels=[\"Class 1\", \"Class 2\"])\n",
        "\n",
        "# Figures\n",
        "plt.figure(figsize=(10,10))\n",
        "bc.plot_roc_curve()\n",
        "plt.show()"
      ],
      "execution_count": 81,
      "outputs": [
        {
          "output_type": "display_data",
          "data": {
            "image/png": "[encoded data removed]",
            "text/plain": [
              "<Figure size 720x720 with 1 Axes>"
            ]
          },
          "metadata": {
            "tags": []
          }
        }
      ]
    },
    {
      "cell_type": "code",
      "metadata": {
        "id": "IY8Jx5kDKjur"
      },
      "source": [
        "from sklearn.metrics import confusion_matrix"
      ],
      "execution_count": 82,
      "outputs": []
    },
    {
      "cell_type": "code",
      "metadata": {
        "colab": {
          "base_uri": "https://localhost:8080/"
        },
        "id": "Q9LVF9kvQUKS",
        "outputId": "cfb011b3-7cba-4c8f-93d9-d07b59bede72"
      },
      "source": [
        "conf_matrix = confusion_matrix(targets_, preds)\n",
        "print(conf_matrix)"
      ],
      "execution_count": 83,
      "outputs": [
        {
          "output_type": "stream",
          "text": [
            "[[1038  460]\n",
            " [ 442 2058]]\n"
          ],
          "name": "stdout"
        }
      ]
    },
    {
      "cell_type": "code",
      "metadata": {
        "colab": {
          "base_uri": "https://localhost:8080/",
          "height": 273
        },
        "id": "7XquAg6dQZQ0",
        "outputId": "0082d94f-30f6-4547-d43d-787efe920b4e"
      },
      "source": [
        "import pandas as pd\n",
        "import seaborn as sns\n",
        "\n",
        "df_cm = pd.DataFrame(conf_matrix, range(2), range(2))\n",
        "\n",
        "sns.set(font_scale=1.4) # for label size\n",
        "sns.heatmap(df_cm, annot=True, annot_kws={\"size\": 16}, fmt=\".2f\") # font size\n",
        "\n",
        "plt.show()"
      ],
      "execution_count": 84,
      "outputs": [
        {
          "output_type": "display_data",
          "data": {
            "image/png": "[encoded data removed]",
            "text/plain": [
              "<Figure size 432x288 with 2 Axes>"
            ]
          },
          "metadata": {
            "tags": []
          }
        }
      ]
    },
    {
      "cell_type": "code",
      "metadata": {
        "id": "8pSFcWzBU1zO"
      },
      "source": [
        "outs_last_excluded = np.hstack([out.cpu().numpy() for out in outs[:-1]])"
      ],
      "execution_count": 85,
      "outputs": []
    },
    {
      "cell_type": "code",
      "metadata": {
        "id": "uClXg9LEVYnu"
      },
      "source": [
        "final_outs = np.hstack([ans for ans in outs_last_excluded])"
      ],
      "execution_count": 86,
      "outputs": []
    },
    {
      "cell_type": "code",
      "metadata": {
        "id": "dbe5NtD9WYCR"
      },
      "source": [
        "outs = [out.cpu().numpy() for out in outs]"
      ],
      "execution_count": 87,
      "outputs": []
    },
    {
      "cell_type": "code",
      "metadata": {
        "id": "Wx2KWdJnV36r"
      },
      "source": [
        "answer = [np.hstack(outs[i][:, 0]) for i in range(len(outs))]"
      ],
      "execution_count": 88,
      "outputs": []
    },
    {
      "cell_type": "code",
      "metadata": {
        "id": "9tAmmVqyXUJo"
      },
      "source": [
        "class_1_raw_preds = np.hstack([ans for ans in answer])"
      ],
      "execution_count": 89,
      "outputs": []
    },
    {
      "cell_type": "code",
      "metadata": {
        "id": "Yj01CJUXYoXn"
      },
      "source": [
        "answer2 = [np.hstack(outs[i][:, -1]) for i in range(len(outs))]"
      ],
      "execution_count": 90,
      "outputs": []
    },
    {
      "cell_type": "code",
      "metadata": {
        "id": "3OZT5eW3Yokn"
      },
      "source": [
        "class_2_raw_preds = np.hstack([ans for ans in answer2])"
      ],
      "execution_count": 91,
      "outputs": []
    },
    {
      "cell_type": "code",
      "metadata": {
        "id": "24bg-oqB2SQl"
      },
      "source": [
        "class_22_raw_preds = 1 - class_2_raw_preds"
      ],
      "execution_count": 93,
      "outputs": []
    },
    {
      "cell_type": "code",
      "metadata": {
        "colab": {
          "base_uri": "https://localhost:8080/",
          "height": 438
        },
        "id": "oT6e2BhmRK9K",
        "outputId": "c21a4ec7-dbf0-46ee-ab9b-f18a29cdd666"
      },
      "source": [
        "import matplotlib.pyplot as plt\n",
        "\n",
        "fig, ax = plt.subplots(nrows=1, ncols=2, figsize=(30, 10));\n",
        "\n",
        "hist_style_all = dict(histtype=\"step\", color=\"darkgreen\", label=\"All\")\n",
        "hist_style_class1 = dict(histtype=\"step\", color=\"midnightblue\", label=\"merger\")\n",
        "hist_style_class2 = dict(histtype=\"step\", color=\"firebrick\", label=\"non-interacting\")\n",
        "\n",
        "# ax1.hist(preds, bins=np.linspace(0, 1, 50), **hist_style_all);\n",
        "\n",
        "# ax1.set_xlabel(\"Prediction\", fontsize=16);\n",
        "# ax1.set_ylabel(\"\", fontsize=16);\n",
        "# ax1.set_title(\"Individual predictions (both)\");\n",
        "# ax1.legend(frameon=False);\n",
        "\n",
        "ax[0].hist(class_1_raw_preds[targets_.astype(bool)], bins=np.linspace(0, 1, 50),\n",
        "        **hist_style_class1);\n",
        "ax[0].hist(class_22_raw_preds[~(targets_.astype(bool))], bins=np.linspace(0, 1, 50),\n",
        "        **hist_style_class2);\n",
        "\n",
        "ax[0].set_xlabel(\"Prediction\", fontsize=16);\n",
        "ax[0].set_ylabel(\"\", fontsize=16);\n",
        "ax[0].set_title(\"Individual predictions (both)\")\n",
        "ax[0].legend(frameon=False);"
      ],
      "execution_count": 102,
      "outputs": [
        {
          "output_type": "display_data",
          "data": {
            "image/png": "[encoded data removed]",
            "text/plain": [
              "<Figure size 2160x720 with 2 Axes>"
            ]
          },
          "metadata": {
            "tags": []
          }
        }
      ]
    },
    {
      "cell_type": "code",
      "metadata": {
        "colab": {
          "base_uri": "https://localhost:8080/"
        },
        "id": "CfY9kiLpTIaV",
        "outputId": "de8cbbaf-bdd9-43ec-9fd4-af083d6d3ff6"
      },
      "source": [
        "!ls dataset_zurich/test/merger | wc -l"
      ],
      "execution_count": 95,
      "outputs": [
        {
          "output_type": "stream",
          "text": [
            "1498\n"
          ],
          "name": "stdout"
        }
      ]
    },
    {
      "cell_type": "code",
      "metadata": {
        "colab": {
          "base_uri": "https://localhost:8080/"
        },
        "id": "P-XQmRwDZvW2",
        "outputId": "57f7ec67-6c68-4729-fd52-23106cc0a2a6"
      },
      "source": [
        "!ls dataset_zurich/test/noninteracting | wc -l"
      ],
      "execution_count": 96,
      "outputs": [
        {
          "output_type": "stream",
          "text": [
            "2500\n"
          ],
          "name": "stdout"
        }
      ]
    },
    {
      "cell_type": "code",
      "metadata": {
        "colab": {
          "base_uri": "https://localhost:8080/"
        },
        "id": "ImQt3NvpZxF1",
        "outputId": "ead8bd21-ae4b-4644-d1ee-3ac361a20f29"
      },
      "source": [
        "!ls dataset_zurich/train/merger | wc -l"
      ],
      "execution_count": 97,
      "outputs": [
        {
          "output_type": "stream",
          "text": [
            "3003\n"
          ],
          "name": "stdout"
        }
      ]
    },
    {
      "cell_type": "code",
      "metadata": {
        "colab": {
          "base_uri": "https://localhost:8080/"
        },
        "id": "okKTWVxtZ1qL",
        "outputId": "5566df00-804e-4950-c3ec-fc66108d6b12"
      },
      "source": [
        "!ls dataset_zurich/train/noninteracting | wc -l"
      ],
      "execution_count": 98,
      "outputs": [
        {
          "output_type": "stream",
          "text": [
            "5000\n"
          ],
          "name": "stdout"
        }
      ]
    },
    {
      "cell_type": "code",
      "metadata": {
        "colab": {
          "base_uri": "https://localhost:8080/"
        },
        "id": "gqsuIKvqZ3HJ",
        "outputId": "d8e38525-950b-4b3e-c86e-aca483bf5734"
      },
      "source": [
        "!ls dataset_zurich/val/merger | wc -l"
      ],
      "execution_count": 99,
      "outputs": [
        {
          "output_type": "stream",
          "text": [
            "1499\n"
          ],
          "name": "stdout"
        }
      ]
    },
    {
      "cell_type": "code",
      "metadata": {
        "colab": {
          "base_uri": "https://localhost:8080/"
        },
        "id": "KczbGN8taDM6",
        "outputId": "80895a29-b315-40b2-abca-e73506b3caf9"
      },
      "source": [
        "!ls dataset_zurich/val/noninteracting | wc -l"
      ],
      "execution_count": 139,
      "outputs": [
        {
          "output_type": "stream",
          "text": [
            "2500\n"
          ],
          "name": "stdout"
        }
      ]
    },
    {
      "cell_type": "code",
      "metadata": {
        "id": "NwiSTAtSaF6B"
      },
      "source": [
        ""
      ],
      "execution_count": null,
      "outputs": []
    }
  ]
}
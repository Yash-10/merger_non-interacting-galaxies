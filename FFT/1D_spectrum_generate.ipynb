{
  "nbformat": 4,
  "nbformat_minor": 0,
  "metadata": {
    "colab": {
      "name": "1D_spectrum_generate.ipynb",
      "provenance": [],
      "collapsed_sections": []
    },
    "kernelspec": {
      "name": "python3",
      "display_name": "Python 3"
    },
    "language_info": {
      "name": "python"
    },
    "widgets": {
      "application/vnd.jupyter.widget-state+json": {
        "76271aeffc8040ed830d7ba55c9b8b96": {
          "model_module": "@jupyter-widgets/controls",
          "model_name": "HBoxModel",
          "state": {
            "_view_name": "HBoxView",
            "_dom_classes": [],
            "_model_name": "HBoxModel",
            "_view_module": "@jupyter-widgets/controls",
            "_model_module_version": "1.5.0",
            "_view_count": null,
            "_view_module_version": "1.5.0",
            "box_style": "",
            "layout": "IPY_MODEL_7440f8ad833d49089a6686f4adf72266",
            "_model_module": "@jupyter-widgets/controls",
            "children": [
              "IPY_MODEL_d03490e470c9418d89df4da3cdb4866b",
              "IPY_MODEL_4d4fd8d5c2644834ab9d95d034cfdb13"
            ]
          }
        },
        "7440f8ad833d49089a6686f4adf72266": {
          "model_module": "@jupyter-widgets/base",
          "model_name": "LayoutModel",
          "state": {
            "_view_name": "LayoutView",
            "grid_template_rows": null,
            "right": null,
            "justify_content": null,
            "_view_module": "@jupyter-widgets/base",
            "overflow": null,
            "_model_module_version": "1.2.0",
            "_view_count": null,
            "flex_flow": null,
            "width": null,
            "min_width": null,
            "border": null,
            "align_items": null,
            "bottom": null,
            "_model_module": "@jupyter-widgets/base",
            "top": null,
            "grid_column": null,
            "overflow_y": null,
            "overflow_x": null,
            "grid_auto_flow": null,
            "grid_area": null,
            "grid_template_columns": null,
            "flex": null,
            "_model_name": "LayoutModel",
            "justify_items": null,
            "grid_row": null,
            "max_height": null,
            "align_content": null,
            "visibility": null,
            "align_self": null,
            "height": null,
            "min_height": null,
            "padding": null,
            "grid_auto_rows": null,
            "grid_gap": null,
            "max_width": null,
            "order": null,
            "_view_module_version": "1.2.0",
            "grid_template_areas": null,
            "object_position": null,
            "object_fit": null,
            "grid_auto_columns": null,
            "margin": null,
            "display": null,
            "left": null
          }
        },
        "d03490e470c9418d89df4da3cdb4866b": {
          "model_module": "@jupyter-widgets/controls",
          "model_name": "FloatProgressModel",
          "state": {
            "_view_name": "ProgressView",
            "style": "IPY_MODEL_d8f7466483aa4b5ea726735bb730bdc9",
            "_dom_classes": [],
            "description": "100%",
            "_model_name": "FloatProgressModel",
            "bar_style": "success",
            "max": 16000,
            "_view_module": "@jupyter-widgets/controls",
            "_model_module_version": "1.5.0",
            "value": 16000,
            "_view_count": null,
            "_view_module_version": "1.5.0",
            "orientation": "horizontal",
            "min": 0,
            "description_tooltip": null,
            "_model_module": "@jupyter-widgets/controls",
            "layout": "IPY_MODEL_a6961c1333e04efcb273950e14e1a4cf"
          }
        },
        "4d4fd8d5c2644834ab9d95d034cfdb13": {
          "model_module": "@jupyter-widgets/controls",
          "model_name": "HTMLModel",
          "state": {
            "_view_name": "HTMLView",
            "style": "IPY_MODEL_6261adac43894e4f988a1c7a3b06a690",
            "_dom_classes": [],
            "description": "",
            "_model_name": "HTMLModel",
            "placeholder": "​",
            "_view_module": "@jupyter-widgets/controls",
            "_model_module_version": "1.5.0",
            "value": " 16000/16000 [8:10:57&lt;00:00,  1.84s/it]",
            "_view_count": null,
            "_view_module_version": "1.5.0",
            "description_tooltip": null,
            "_model_module": "@jupyter-widgets/controls",
            "layout": "IPY_MODEL_d378148392ab4792ab7aa1faebb54f8a"
          }
        },
        "d8f7466483aa4b5ea726735bb730bdc9": {
          "model_module": "@jupyter-widgets/controls",
          "model_name": "ProgressStyleModel",
          "state": {
            "_view_name": "StyleView",
            "_model_name": "ProgressStyleModel",
            "description_width": "initial",
            "_view_module": "@jupyter-widgets/base",
            "_model_module_version": "1.5.0",
            "_view_count": null,
            "_view_module_version": "1.2.0",
            "bar_color": null,
            "_model_module": "@jupyter-widgets/controls"
          }
        },
        "a6961c1333e04efcb273950e14e1a4cf": {
          "model_module": "@jupyter-widgets/base",
          "model_name": "LayoutModel",
          "state": {
            "_view_name": "LayoutView",
            "grid_template_rows": null,
            "right": null,
            "justify_content": null,
            "_view_module": "@jupyter-widgets/base",
            "overflow": null,
            "_model_module_version": "1.2.0",
            "_view_count": null,
            "flex_flow": null,
            "width": null,
            "min_width": null,
            "border": null,
            "align_items": null,
            "bottom": null,
            "_model_module": "@jupyter-widgets/base",
            "top": null,
            "grid_column": null,
            "overflow_y": null,
            "overflow_x": null,
            "grid_auto_flow": null,
            "grid_area": null,
            "grid_template_columns": null,
            "flex": null,
            "_model_name": "LayoutModel",
            "justify_items": null,
            "grid_row": null,
            "max_height": null,
            "align_content": null,
            "visibility": null,
            "align_self": null,
            "height": null,
            "min_height": null,
            "padding": null,
            "grid_auto_rows": null,
            "grid_gap": null,
            "max_width": null,
            "order": null,
            "_view_module_version": "1.2.0",
            "grid_template_areas": null,
            "object_position": null,
            "object_fit": null,
            "grid_auto_columns": null,
            "margin": null,
            "display": null,
            "left": null
          }
        },
        "6261adac43894e4f988a1c7a3b06a690": {
          "model_module": "@jupyter-widgets/controls",
          "model_name": "DescriptionStyleModel",
          "state": {
            "_view_name": "StyleView",
            "_model_name": "DescriptionStyleModel",
            "description_width": "",
            "_view_module": "@jupyter-widgets/base",
            "_model_module_version": "1.5.0",
            "_view_count": null,
            "_view_module_version": "1.2.0",
            "_model_module": "@jupyter-widgets/controls"
          }
        },
        "d378148392ab4792ab7aa1faebb54f8a": {
          "model_module": "@jupyter-widgets/base",
          "model_name": "LayoutModel",
          "state": {
            "_view_name": "LayoutView",
            "grid_template_rows": null,
            "right": null,
            "justify_content": null,
            "_view_module": "@jupyter-widgets/base",
            "overflow": null,
            "_model_module_version": "1.2.0",
            "_view_count": null,
            "flex_flow": null,
            "width": null,
            "min_width": null,
            "border": null,
            "align_items": null,
            "bottom": null,
            "_model_module": "@jupyter-widgets/base",
            "top": null,
            "grid_column": null,
            "overflow_y": null,
            "overflow_x": null,
            "grid_auto_flow": null,
            "grid_area": null,
            "grid_template_columns": null,
            "flex": null,
            "_model_name": "LayoutModel",
            "justify_items": null,
            "grid_row": null,
            "max_height": null,
            "align_content": null,
            "visibility": null,
            "align_self": null,
            "height": null,
            "min_height": null,
            "padding": null,
            "grid_auto_rows": null,
            "grid_gap": null,
            "max_width": null,
            "order": null,
            "_view_module_version": "1.2.0",
            "grid_template_areas": null,
            "object_position": null,
            "object_fit": null,
            "grid_auto_columns": null,
            "margin": null,
            "display": null,
            "left": null
          }
        }
      }
    }
  },
  "cells": [
    {
      "cell_type": "code",
      "metadata": {
        "id": "u4GV1XdDuFzD"
      },
      "source": [
        "import numpy as np\n",
        "# import h5py"
      ],
      "execution_count": 1,
      "outputs": []
    },
    {
      "cell_type": "code",
      "metadata": {
        "id": "pfhJPQ_guIrR"
      },
      "source": [
        "######## Check ########\n",
        "d = np.arange(100)\n",
        "with h5py.File('name-of-file.h5', 'w') as hf:\n",
        "  dset = hf.create_dataset(\"name-of-dataset\", shape=(16000, 72), dtype=np.float32)\n",
        "\n",
        "  for i in range(16000):\n",
        "    dset[i, :] = np.arange(72)\n",
        "  \n",
        "with h5py.File('name-of-file.h5', 'r') as f:\n",
        "    my_array = f['name-of-dataset'][()]"
      ],
      "execution_count": null,
      "outputs": []
    },
    {
      "cell_type": "code",
      "metadata": {
        "colab": {
          "base_uri": "https://localhost:8080/"
        },
        "id": "-ZvCl5ZcvGbf",
        "outputId": "4e23a041-5e63-4f46-ba92-343000cb4590"
      },
      "source": [
        "my_array.shape"
      ],
      "execution_count": null,
      "outputs": [
        {
          "output_type": "execute_result",
          "data": {
            "text/plain": [
              "(16000, 72)"
            ]
          },
          "metadata": {
            "tags": []
          },
          "execution_count": 19
        }
      ]
    },
    {
      "cell_type": "code",
      "metadata": {
        "colab": {
          "base_uri": "https://localhost:8080/"
        },
        "id": "8zvVkKwwzMPJ",
        "outputId": "afbbbf0b-d437-429e-887e-e1ce0905a35d"
      },
      "source": [
        "!pip install turbustat"
      ],
      "execution_count": 9,
      "outputs": [
        {
          "output_type": "stream",
          "text": [
            "Collecting turbustat\n",
            "\u001b[?25l  Downloading https://files.pythonhosted.org/packages/96/5f/abc617f5cbfb9a22e15da082be1ce702dff1faabf198eed9f2422dcbf229/turbustat-1.2.1-cp37-cp37m-manylinux2010_x86_64.whl (3.0MB)\n",
            "\u001b[K     |████████████████████████████████| 3.0MB 8.1MB/s \n",
            "\u001b[?25hRequirement already satisfied: matplotlib>=1.2 in /usr/local/lib/python3.7/dist-packages (from turbustat) (3.2.2)\n",
            "Requirement already satisfied: statsmodels>=0.4.0 in /usr/local/lib/python3.7/dist-packages (from turbustat) (0.10.2)\n",
            "Requirement already satisfied: astropy>=2.0 in /usr/local/lib/python3.7/dist-packages (from turbustat) (4.2.1)\n",
            "Requirement already satisfied: numpy>=1.7 in /usr/local/lib/python3.7/dist-packages (from turbustat) (1.19.5)\n",
            "Requirement already satisfied: scikit-image>=0.12 in /usr/local/lib/python3.7/dist-packages (from turbustat) (0.16.2)\n",
            "Requirement already satisfied: scikit-learn>=0.13 in /usr/local/lib/python3.7/dist-packages (from turbustat) (0.22.2.post1)\n",
            "Requirement already satisfied: scipy>=0.21 in /usr/local/lib/python3.7/dist-packages (from turbustat) (1.4.1)\n",
            "Collecting spectral-cube\n",
            "\u001b[?25l  Downloading https://files.pythonhosted.org/packages/f2/1a/4b79cb71d3f9cfcb63531b6633d252e54af831067eab9dbb7e51568af6f1/spectral_cube-0.5.0-py3-none-any.whl (215kB)\n",
            "\u001b[K     |████████████████████████████████| 225kB 35.4MB/s \n",
            "\u001b[?25hRequirement already satisfied: python-dateutil>=2.1 in /usr/local/lib/python3.7/dist-packages (from matplotlib>=1.2->turbustat) (2.8.1)\n",
            "Requirement already satisfied: kiwisolver>=1.0.1 in /usr/local/lib/python3.7/dist-packages (from matplotlib>=1.2->turbustat) (1.3.1)\n",
            "Requirement already satisfied: pyparsing!=2.0.4,!=2.1.2,!=2.1.6,>=2.0.1 in /usr/local/lib/python3.7/dist-packages (from matplotlib>=1.2->turbustat) (2.4.7)\n",
            "Requirement already satisfied: cycler>=0.10 in /usr/local/lib/python3.7/dist-packages (from matplotlib>=1.2->turbustat) (0.10.0)\n",
            "Requirement already satisfied: patsy>=0.4.0 in /usr/local/lib/python3.7/dist-packages (from statsmodels>=0.4.0->turbustat) (0.5.1)\n",
            "Requirement already satisfied: pandas>=0.19 in /usr/local/lib/python3.7/dist-packages (from statsmodels>=0.4.0->turbustat) (1.1.5)\n",
            "Requirement already satisfied: pyerfa in /usr/local/lib/python3.7/dist-packages (from astropy>=2.0->turbustat) (2.0.0)\n",
            "Requirement already satisfied: pillow>=4.3.0 in /usr/local/lib/python3.7/dist-packages (from scikit-image>=0.12->turbustat) (7.1.2)\n",
            "Requirement already satisfied: PyWavelets>=0.4.0 in /usr/local/lib/python3.7/dist-packages (from scikit-image>=0.12->turbustat) (1.1.1)\n",
            "Requirement already satisfied: imageio>=2.3.0 in /usr/local/lib/python3.7/dist-packages (from scikit-image>=0.12->turbustat) (2.4.1)\n",
            "Requirement already satisfied: networkx>=2.0 in /usr/local/lib/python3.7/dist-packages (from scikit-image>=0.12->turbustat) (2.5.1)\n",
            "Requirement already satisfied: joblib>=0.11 in /usr/local/lib/python3.7/dist-packages (from scikit-learn>=0.13->turbustat) (1.0.1)\n",
            "Requirement already satisfied: six in /usr/local/lib/python3.7/dist-packages (from spectral-cube->turbustat) (1.15.0)\n",
            "Requirement already satisfied: dask[array] in /usr/local/lib/python3.7/dist-packages (from spectral-cube->turbustat) (2.12.0)\n",
            "Collecting radio-beam\n",
            "\u001b[?25l  Downloading https://files.pythonhosted.org/packages/fb/c8/f7a90688bca2e1e268866ef6aabb549d33d78f8309bfe7f28f5e6b2c20dd/radio_beam-0.3.3-py3-none-any.whl (73kB)\n",
            "\u001b[K     |████████████████████████████████| 81kB 7.7MB/s \n",
            "\u001b[?25hRequirement already satisfied: pytz>=2017.2 in /usr/local/lib/python3.7/dist-packages (from pandas>=0.19->statsmodels>=0.4.0->turbustat) (2018.9)\n",
            "Requirement already satisfied: decorator<5,>=4.3 in /usr/local/lib/python3.7/dist-packages (from networkx>=2.0->scikit-image>=0.12->turbustat) (4.4.2)\n",
            "Requirement already satisfied: toolz>=0.7.3; extra == \"array\" in /usr/local/lib/python3.7/dist-packages (from dask[array]->spectral-cube->turbustat) (0.11.1)\n",
            "Installing collected packages: radio-beam, spectral-cube, turbustat\n",
            "Successfully installed radio-beam-0.3.3 spectral-cube-0.5.0 turbustat-1.2.1\n"
          ],
          "name": "stdout"
        }
      ]
    },
    {
      "cell_type": "code",
      "metadata": {
        "colab": {
          "base_uri": "https://localhost:8080/"
        },
        "id": "Vmcwo4DZzN9D",
        "outputId": "aa7fdd0b-09e2-4a7d-a521-a0a478a12000"
      },
      "source": [
        "import os\n",
        "import shutil\n",
        "\n",
        "import numpy as np\n",
        "import cv2\n",
        "\n",
        "from turbustat.statistics import PowerSpectrum\n",
        "from astropy.io import fits\n",
        "import astropy.units as u\n",
        "\n",
        "import matplotlib.pyplot as plt\n",
        "\n",
        "from tqdm import tqdm"
      ],
      "execution_count": 10,
      "outputs": [
        {
          "output_type": "stream",
          "text": [
            "/usr/local/lib/python3.7/dist-packages/statsmodels/tools/_testing.py:19: FutureWarning: pandas.util.testing is deprecated. Use the functions in the public API at pandas.testing instead.\n",
            "  import pandas.util.testing as tm\n"
          ],
          "name": "stderr"
        }
      ]
    },
    {
      "cell_type": "code",
      "metadata": {
        "id": "9IIUQu-Lx3sV"
      },
      "source": [
        "!unzip drive/MyDrive/dataset_zurich"
      ],
      "execution_count": null,
      "outputs": []
    },
    {
      "cell_type": "code",
      "metadata": {
        "id": "CudBgfPPzCAe"
      },
      "source": [
        "DATASET_ROOT = \"dataset_zurich/\"\n",
        "NEW_DATASET_ROOT = \"data/\"\n",
        "\n",
        "if not os.path.isdir(\"data\"):\n",
        "\t\tos.mkdir(\"data\")\n",
        "if not os.path.isdir(\"data/noninteracting\"):\n",
        "  os.mkdir(\"data/noninteracting\")\n",
        "if not os.path.isdir(\"data/merger\"):\n",
        "  os.mkdir(\"data/merger\")\n",
        "\n",
        "src_train_merger = DATASET_ROOT + \"merger/training\"\n",
        "src_val_merger = DATASET_ROOT + \"merger/validation\"\n",
        "src_test_merger = DATASET_ROOT + \"merger/test\"\n",
        "src_train_noninteracting = DATASET_ROOT + \"noninteracting/training\"\n",
        "src_val_noninteracting = DATASET_ROOT + \"noninteracting/validation\"\n",
        "src_test_noninteracting = DATASET_ROOT + \"noninteracting/test\"\n",
        "\n",
        "dest_merger = NEW_DATASET_ROOT + \"merger/\"\n",
        "dest_noninteracting = NEW_DATASET_ROOT + \"noninteracting/\"\n",
        "\n",
        "for filename in os.listdir(src_train_merger):\n",
        "  shutil.move(os.path.join(src_train_merger, filename), dest_merger)\n",
        "for filename in os.listdir(src_val_merger):\n",
        "  shutil.move(os.path.join(src_val_merger, filename), dest_merger)\n",
        "for filename in os.listdir(src_test_merger):\n",
        "  shutil.move(os.path.join(src_test_merger, filename), dest_merger)\n",
        "\n",
        "for filename in os.listdir(src_train_noninteracting):\n",
        "  shutil.move(os.path.join(src_train_noninteracting, filename), dest_noninteracting)\n",
        "for filename in os.listdir(src_val_noninteracting):\n",
        "  shutil.move(os.path.join(src_val_noninteracting, filename), dest_noninteracting)\n",
        "for filename in os.listdir(src_test_noninteracting):\n",
        "  shutil.move(os.path.join(src_test_noninteracting, filename), dest_noninteracting)\n",
        "\n",
        "try:\n",
        "  os.rmdir(DATASET_ROOT)  # TODO: Raises error if directory is not empty.\n",
        "except OSError:\n",
        "  !rm -rf DATASET_ROOT"
      ],
      "execution_count": 4,
      "outputs": []
    },
    {
      "cell_type": "code",
      "metadata": {
        "colab": {
          "base_uri": "https://localhost:8080/"
        },
        "id": "MJfsRWzezHlP",
        "outputId": "76674cfe-540f-4b95-fa73-fd4e3dc51cc4"
      },
      "source": [
        "%time\n",
        "original_image = cv2.imread(\"/content/data/noninteracting/587722952767439411.jpeg\", 0)\n",
        "# original_image = original_image.mean(axis=2)\n",
        "# original_image.shape\n",
        "# resized_image = cv2.resize(original_image, (100, 100), \n",
        "                          #  interpolation=cv2.INTER_NEAREST)"
      ],
      "execution_count": 5,
      "outputs": [
        {
          "output_type": "stream",
          "text": [
            "CPU times: user 3 µs, sys: 1 µs, total: 4 µs\n",
            "Wall time: 8.58 µs\n"
          ],
          "name": "stdout"
        }
      ]
    },
    {
      "cell_type": "code",
      "metadata": {
        "id": "VIjzNhlGSG5S"
      },
      "source": [
        "!rm -rf __MACOSX/"
      ],
      "execution_count": 33,
      "outputs": []
    },
    {
      "cell_type": "code",
      "metadata": {
        "id": "yGhmlqJQSevu"
      },
      "source": [
        "OUTPUT_DIR = \"spectrums/\"\n",
        "os.mkdir(OUTPUT_DIR)\n",
        "os.mkdir(os.path.join(OUTPUT_DIR, \"merger\"))\n",
        "os.mkdir(os.path.join(OUTPUT_DIR, \"noninteracting\"))"
      ],
      "execution_count": 35,
      "outputs": []
    },
    {
      "cell_type": "code",
      "metadata": {
        "colab": {
          "base_uri": "https://localhost:8080/",
          "height": 67,
          "referenced_widgets": [
            "76271aeffc8040ed830d7ba55c9b8b96",
            "7440f8ad833d49089a6686f4adf72266",
            "d03490e470c9418d89df4da3cdb4866b",
            "4d4fd8d5c2644834ab9d95d034cfdb13",
            "d8f7466483aa4b5ea726735bb730bdc9",
            "a6961c1333e04efcb273950e14e1a4cf",
            "6261adac43894e4f988a1c7a3b06a690",
            "d378148392ab4792ab7aa1faebb54f8a"
          ]
        },
        "id": "Qx1JY5KtzR6G",
        "outputId": "984f196f-6a3d-4401-9b82-c7e310f2e5a7"
      },
      "source": [
        "# # Using joblib\n",
        "from tqdm.auto import tqdm\n",
        "from joblib import Parallel, delayed\n",
        "\n",
        "# data_ = np.empty((0, 72))  # 72 needs to be changed if image size is resized to a different value.\n",
        "\n",
        "# from PIL import Image\n",
        "NEW_DATASET_ROOT = \"data/\"\n",
        "def calc_spectrum(img_path, size=100):\n",
        "  \"\"\"\n",
        "  img_path: Full path to the image.\n",
        "  size: Size to resize each image, defaults to 100, i.e. 100X100.\n",
        "\n",
        "  \"\"\"\n",
        "  img = cv2.imread(img_path, 0)\n",
        "  img = cv2.resize(img, (size, size))\n",
        "  # img = img.mean(axis=2)\n",
        "\n",
        "  # Compute Power Spectrum.\n",
        "  pspec = PowerSpectrum(img, header=fits.header.Header())\n",
        "\n",
        "  try:  # Some values in the 1D averaged spectrum could be infinite which raises error in the `.run` method.\n",
        "    pspec.run(verbose=False)\n",
        "    ps1d = pspec.ps1D\n",
        "  except ValueError:\n",
        "    print(f\"The power spectrum of the image '{img_path}' has infinite values. Ignoring...\")\n",
        "    ps1d = np.zeros(72)\n",
        "  \n",
        "  if img_path.split(\"/\")[-1].split(\".\")[1] == \"noninteracting\":\n",
        "    np.save(os.path.join(OUTPUT_DIR, \"noninteracting\", img_path.split(\"/\")[-1].split(\".\")[0]+\".npy\"), ps1d)\n",
        "  else:\n",
        "    np.save(os.path.join(OUTPUT_DIR, \"merger\", img_path.split(\"/\")[-1].split(\".\")[0]+\".npy\"), ps1d)\n",
        "\n",
        "def _get_img_paths():\n",
        "  for class_ in os.listdir(NEW_DATASET_ROOT):\n",
        "    class_path = os.path.join(NEW_DATASET_ROOT, class_)\n",
        "    for image in os.listdir(class_path):\n",
        "      yield os.path.join(class_path, image)\n",
        "\n",
        "# paths = list(_get_img_paths())\n",
        "\n",
        "_ = Parallel(n_jobs=-1)(delayed(calc_spectrum)(img_path) for img_path in tqdm(_get_img_paths(), total=16000))\n",
        "# for img_path in tqdm(_get_img_paths(), total=16000):\n",
        "  # _ = calc_spectrum(img_path)\n",
        "\n",
        "# def save_spectrum(img_path):\n",
        "\n",
        "\n",
        "# with h5py.File('Spectrum_1D_data.h5', 'w') as hf:\n",
        "#   dset = hf.create_dataset(\"_Spectrum_\", shape=(16000, 73), dtype=np.float32)\n",
        "\n",
        "#   for i, img_path in tqdm(enumerate(_get_img_paths()), total=16000):\n",
        "#     ps1d = calc_spectrum(img_path, NEW_DATASET_ROOT)\n",
        "#     label = 0 if img_path.split(\"/\")[1] == \"noninteracting\" else 1\n",
        "\n",
        "#     dset[i, :-1] = ps1d\n",
        "#     dset[:, -1] = label\n",
        "  \n",
        "# with h5py.File('Spectrum_1D_data.h5', 'r') as f:\n",
        "#     data = f['_Spectrum_'][()]\n",
        "\n",
        "# np.save(\"SPECTRUM_DATA.npy\", data_)"
      ],
      "execution_count": 36,
      "outputs": [
        {
          "output_type": "display_data",
          "data": {
            "application/vnd.jupyter.widget-view+json": {
              "model_id": "76271aeffc8040ed830d7ba55c9b8b96",
              "version_major": 2,
              "version_minor": 0
            },
            "text/plain": [
              "HBox(children=(FloatProgress(value=0.0, max=16000.0), HTML(value='')))"
            ]
          },
          "metadata": {
            "tags": []
          }
        },
        {
          "output_type": "stream",
          "text": [
            "\n"
          ],
          "name": "stdout"
        }
      ]
    },
    {
      "cell_type": "code",
      "metadata": {
        "colab": {
          "base_uri": "https://localhost:8080/"
        },
        "id": "I8GjFZTnHGFZ",
        "outputId": "e2085fe8-7a4c-447e-d788-3117d38b2ea9"
      },
      "source": [
        "d = np.load(\"/content/spectrums/merger/587725469061283965.npy\")\n",
        "d.shape"
      ],
      "execution_count": 41,
      "outputs": [
        {
          "output_type": "execute_result",
          "data": {
            "text/plain": [
              "(72,)"
            ]
          },
          "metadata": {
            "tags": []
          },
          "execution_count": 41
        }
      ]
    },
    {
      "cell_type": "code",
      "metadata": {
        "id": "KruTlBDmILQj"
      },
      "source": [
        "# To solve the previous bug of transfering all files to the merger folder\n",
        "for file_ in os.listdir(\"spectrums/merger\"):\n",
        "  if os.path.exists(os.path.join(\"data/noninteracting\", file_.split(\".\")[0]+\".jpeg\")):\n",
        "    shutil.move(os.path.join(\"spectrums/merger\", file_), os.path.join(\"spectrums/noninteracting\", file_))"
      ],
      "execution_count": 56,
      "outputs": []
    },
    {
      "cell_type": "code",
      "metadata": {
        "colab": {
          "base_uri": "https://localhost:8080/"
        },
        "id": "gxq49a3HHGWP",
        "outputId": "a529f9ff-ca26-487a-d31c-b769fb949682"
      },
      "source": [
        "!ls spectrums/noninteracting | wc -l"
      ],
      "execution_count": 58,
      "outputs": [
        {
          "output_type": "stream",
          "text": [
            "10000\n"
          ],
          "name": "stdout"
        }
      ]
    },
    {
      "cell_type": "code",
      "metadata": {
        "colab": {
          "base_uri": "https://localhost:8080/"
        },
        "id": "h4R_EcWLLAXW",
        "outputId": "3e33ef05-0151-4aa0-a86c-db61c207e78f"
      },
      "source": [
        "!ls spectrums/merger | wc -l"
      ],
      "execution_count": 59,
      "outputs": [
        {
          "output_type": "stream",
          "text": [
            "6000\n"
          ],
          "name": "stdout"
        }
      ]
    },
    {
      "cell_type": "code",
      "metadata": {
        "colab": {
          "base_uri": "https://localhost:8080/",
          "height": 356
        },
        "id": "CXMwZucvNATc",
        "outputId": "0b476ef9-62d4-454e-9f9c-523510e12eeb"
      },
      "source": [
        "merger_spec = np.load(\"/content/spectrums/merger/587722983366262870.npy\")\n",
        "noninterac_spec = np.load(\"/content/spectrums/noninteracting/587724232642723967.npy\")\n",
        "\n",
        "fig, axes = plt.subplots(1, 2, figsize=(10, 5));\n",
        "fig.suptitle(\"1D Power Spectrums\");\n",
        "axes[0].plot(merger_spec);\n",
        "axes[0].set_title(\"Merger\");\n",
        "axes[1].plot(noninterac_spec);\n",
        "axes[1].set_title(\"Non-interacting\");"
      ],
      "execution_count": 66,
      "outputs": [
        {
          "output_type": "display_data",
          "data": {
            "image/png": "[encoded data removed]",
            "text/plain": [
              "<Figure size 720x360 with 2 Axes>"
            ]
          },
          "metadata": {
            "tags": [],
            "needs_background": "light"
          }
        }
      ]
    },
    {
      "cell_type": "code",
      "metadata": {
        "id": "5R3TzxMFNAP4"
      },
      "source": [
        ""
      ],
      "execution_count": null,
      "outputs": []
    },
    {
      "cell_type": "code",
      "metadata": {
        "id": "6wO2d6gPNAHg"
      },
      "source": [
        ""
      ],
      "execution_count": null,
      "outputs": []
    },
    {
      "cell_type": "code",
      "metadata": {
        "id": "Qpe6Ih34Lj4Y"
      },
      "source": [
        "!zip -r all_spectrums.zip spectrums"
      ],
      "execution_count": null,
      "outputs": []
    },
    {
      "cell_type": "code",
      "metadata": {
        "id": "SKSx6Xrr1eIp"
      },
      "source": [
        "# f = h5py.File('Spectrum_1D_data.h5', 'r')"
      ],
      "execution_count": 61,
      "outputs": []
    },
    {
      "cell_type": "code",
      "metadata": {
        "id": "4aEvRHu11acp"
      },
      "source": [
        "# f.keys()"
      ],
      "execution_count": 62,
      "outputs": []
    },
    {
      "cell_type": "code",
      "metadata": {
        "id": "t3y_tXIj1sWs"
      },
      "source": [
        "# n1 = f.get(\"_Spectrum_\")\n",
        "# np.array(n1)"
      ],
      "execution_count": 63,
      "outputs": []
    },
    {
      "cell_type": "code",
      "metadata": {
        "id": "G5JV9YA51xsW"
      },
      "source": [
        ""
      ],
      "execution_count": null,
      "outputs": []
    }
  ]
}